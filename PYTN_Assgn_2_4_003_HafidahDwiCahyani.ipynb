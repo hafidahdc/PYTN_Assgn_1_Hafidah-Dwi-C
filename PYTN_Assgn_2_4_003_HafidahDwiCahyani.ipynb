{
  "cells": [
    {
      "cell_type": "markdown",
      "metadata": {
        "id": "0YcSEiL-uBDz"
      },
      "source": [
        "## Name: Hafidah Dwi Cahyani\n",
        "## Number of student:PYTN-KS14-003\n",
        "---\n",
        "The dataset used in this project is NYC Property Sales Dataset from Kaggle. This dataset is a record of every building or building unit (apartment, etc.) sold in the New York City property market over a 12-month period.\n",
        "\n",
        "This dataset contains the location, address, type, sale price, and sale date of building units sold. A reference on the trickier fields:\n",
        "\n",
        "- BOROUGH: A digit code for the borough the property is located in; in order these are Manhattan (1), Bronx (2), Brooklyn (3), Queens (4), and Staten Island (5).\n",
        "- BLOCK; LOT: The combination of borough, block, and lot forms a unique key for property in New York City. Commonly called a BBL.\n",
        "- BUILDING CLASS AT PRESENT and BUILDING CLASS AT TIME OF SALE: The type of building at various points in time."
      ]
    },
    {
      "cell_type": "code",
      "execution_count": 1,
      "metadata": {
        "id": "VVWY3kJ-uBD6"
      },
      "outputs": [],
      "source": [
        "import pandas as pd\n",
        "import numpy as np\n",
        "import statistics\n",
        "from scipy import stats\n",
        "import statsmodels.api as sm\n",
        "import matplotlib.pyplot as plt\n",
        "%matplotlib inline\n",
        "import seaborn as sns\n"
      ]
    },
    {
      "cell_type": "code",
      "execution_count": 2,
      "metadata": {
        "id": "6X3Q2_uZuBD8"
      },
      "outputs": [],
      "source": [
        "url = 'https://raw.githubusercontent.com/hafidahdc/PYTN_Assgn_2_4_003_HafidahDwiCahyani/main/nyc-rolling-sales.csv'"
      ]
    },
    {
      "cell_type": "code",
      "execution_count": 3,
      "metadata": {
        "id": "WC-y1fvmuBD9"
      },
      "outputs": [],
      "source": [
        "df_nyc = pd.read_csv(url)"
      ]
    },
    {
      "cell_type": "code",
      "execution_count": 4,
      "metadata": {
        "colab": {
          "base_uri": "https://localhost:8080/",
          "height": 462
        },
        "id": "S2Oy_f9euBD9",
        "outputId": "25b68417-a2e8-4026-8980-f09652e29414"
      },
      "outputs": [
        {
          "output_type": "execute_result",
          "data": {
            "text/plain": [
              "   Unnamed: 0  BOROUGH   NEIGHBORHOOD  \\\n",
              "0           4        1  ALPHABET CITY   \n",
              "1           5        1  ALPHABET CITY   \n",
              "2           6        1  ALPHABET CITY   \n",
              "\n",
              "                       BUILDING CLASS CATEGORY TAX CLASS AT PRESENT  BLOCK  \\\n",
              "0  07 RENTALS - WALKUP APARTMENTS                                2A    392   \n",
              "1  07 RENTALS - WALKUP APARTMENTS                                 2    399   \n",
              "2  07 RENTALS - WALKUP APARTMENTS                                 2    399   \n",
              "\n",
              "   LOT EASE-MENT BUILDING CLASS AT PRESENT                ADDRESS  ...  \\\n",
              "0    6                                  C2           153 AVENUE B  ...   \n",
              "1   26                                  C7  234 EAST 4TH   STREET  ...   \n",
              "2   39                                  C7  197 EAST 3RD   STREET  ...   \n",
              "\n",
              "  RESIDENTIAL UNITS  COMMERCIAL UNITS  TOTAL UNITS  LAND SQUARE FEET  \\\n",
              "0                 5                 0            5              1633   \n",
              "1                28                 3           31              4616   \n",
              "2                16                 1           17              2212   \n",
              "\n",
              "   GROSS SQUARE FEET YEAR BUILT TAX CLASS AT TIME OF SALE  \\\n",
              "0               6440       1900                         2   \n",
              "1              18690       1900                         2   \n",
              "2               7803       1900                         2   \n",
              "\n",
              "   BUILDING CLASS AT TIME OF SALE  SALE PRICE            SALE DATE  \n",
              "0                              C2     6625000  2017-07-19 00:00:00  \n",
              "1                              C7         -    2016-12-14 00:00:00  \n",
              "2                              C7         -    2016-12-09 00:00:00  \n",
              "\n",
              "[3 rows x 22 columns]"
            ],
            "text/html": [
              "\n",
              "  <div id=\"df-c196a4f0-ec1a-46d6-a13b-8cafdc5460fc\">\n",
              "    <div class=\"colab-df-container\">\n",
              "      <div>\n",
              "<style scoped>\n",
              "    .dataframe tbody tr th:only-of-type {\n",
              "        vertical-align: middle;\n",
              "    }\n",
              "\n",
              "    .dataframe tbody tr th {\n",
              "        vertical-align: top;\n",
              "    }\n",
              "\n",
              "    .dataframe thead th {\n",
              "        text-align: right;\n",
              "    }\n",
              "</style>\n",
              "<table border=\"1\" class=\"dataframe\">\n",
              "  <thead>\n",
              "    <tr style=\"text-align: right;\">\n",
              "      <th></th>\n",
              "      <th>Unnamed: 0</th>\n",
              "      <th>BOROUGH</th>\n",
              "      <th>NEIGHBORHOOD</th>\n",
              "      <th>BUILDING CLASS CATEGORY</th>\n",
              "      <th>TAX CLASS AT PRESENT</th>\n",
              "      <th>BLOCK</th>\n",
              "      <th>LOT</th>\n",
              "      <th>EASE-MENT</th>\n",
              "      <th>BUILDING CLASS AT PRESENT</th>\n",
              "      <th>ADDRESS</th>\n",
              "      <th>...</th>\n",
              "      <th>RESIDENTIAL UNITS</th>\n",
              "      <th>COMMERCIAL UNITS</th>\n",
              "      <th>TOTAL UNITS</th>\n",
              "      <th>LAND SQUARE FEET</th>\n",
              "      <th>GROSS SQUARE FEET</th>\n",
              "      <th>YEAR BUILT</th>\n",
              "      <th>TAX CLASS AT TIME OF SALE</th>\n",
              "      <th>BUILDING CLASS AT TIME OF SALE</th>\n",
              "      <th>SALE PRICE</th>\n",
              "      <th>SALE DATE</th>\n",
              "    </tr>\n",
              "  </thead>\n",
              "  <tbody>\n",
              "    <tr>\n",
              "      <th>0</th>\n",
              "      <td>4</td>\n",
              "      <td>1</td>\n",
              "      <td>ALPHABET CITY</td>\n",
              "      <td>07 RENTALS - WALKUP APARTMENTS</td>\n",
              "      <td>2A</td>\n",
              "      <td>392</td>\n",
              "      <td>6</td>\n",
              "      <td></td>\n",
              "      <td>C2</td>\n",
              "      <td>153 AVENUE B</td>\n",
              "      <td>...</td>\n",
              "      <td>5</td>\n",
              "      <td>0</td>\n",
              "      <td>5</td>\n",
              "      <td>1633</td>\n",
              "      <td>6440</td>\n",
              "      <td>1900</td>\n",
              "      <td>2</td>\n",
              "      <td>C2</td>\n",
              "      <td>6625000</td>\n",
              "      <td>2017-07-19 00:00:00</td>\n",
              "    </tr>\n",
              "    <tr>\n",
              "      <th>1</th>\n",
              "      <td>5</td>\n",
              "      <td>1</td>\n",
              "      <td>ALPHABET CITY</td>\n",
              "      <td>07 RENTALS - WALKUP APARTMENTS</td>\n",
              "      <td>2</td>\n",
              "      <td>399</td>\n",
              "      <td>26</td>\n",
              "      <td></td>\n",
              "      <td>C7</td>\n",
              "      <td>234 EAST 4TH   STREET</td>\n",
              "      <td>...</td>\n",
              "      <td>28</td>\n",
              "      <td>3</td>\n",
              "      <td>31</td>\n",
              "      <td>4616</td>\n",
              "      <td>18690</td>\n",
              "      <td>1900</td>\n",
              "      <td>2</td>\n",
              "      <td>C7</td>\n",
              "      <td>-</td>\n",
              "      <td>2016-12-14 00:00:00</td>\n",
              "    </tr>\n",
              "    <tr>\n",
              "      <th>2</th>\n",
              "      <td>6</td>\n",
              "      <td>1</td>\n",
              "      <td>ALPHABET CITY</td>\n",
              "      <td>07 RENTALS - WALKUP APARTMENTS</td>\n",
              "      <td>2</td>\n",
              "      <td>399</td>\n",
              "      <td>39</td>\n",
              "      <td></td>\n",
              "      <td>C7</td>\n",
              "      <td>197 EAST 3RD   STREET</td>\n",
              "      <td>...</td>\n",
              "      <td>16</td>\n",
              "      <td>1</td>\n",
              "      <td>17</td>\n",
              "      <td>2212</td>\n",
              "      <td>7803</td>\n",
              "      <td>1900</td>\n",
              "      <td>2</td>\n",
              "      <td>C7</td>\n",
              "      <td>-</td>\n",
              "      <td>2016-12-09 00:00:00</td>\n",
              "    </tr>\n",
              "  </tbody>\n",
              "</table>\n",
              "<p>3 rows × 22 columns</p>\n",
              "</div>\n",
              "      <button class=\"colab-df-convert\" onclick=\"convertToInteractive('df-c196a4f0-ec1a-46d6-a13b-8cafdc5460fc')\"\n",
              "              title=\"Convert this dataframe to an interactive table.\"\n",
              "              style=\"display:none;\">\n",
              "        \n",
              "  <svg xmlns=\"http://www.w3.org/2000/svg\" height=\"24px\"viewBox=\"0 0 24 24\"\n",
              "       width=\"24px\">\n",
              "    <path d=\"M0 0h24v24H0V0z\" fill=\"none\"/>\n",
              "    <path d=\"M18.56 5.44l.94 2.06.94-2.06 2.06-.94-2.06-.94-.94-2.06-.94 2.06-2.06.94zm-11 1L8.5 8.5l.94-2.06 2.06-.94-2.06-.94L8.5 2.5l-.94 2.06-2.06.94zm10 10l.94 2.06.94-2.06 2.06-.94-2.06-.94-.94-2.06-.94 2.06-2.06.94z\"/><path d=\"M17.41 7.96l-1.37-1.37c-.4-.4-.92-.59-1.43-.59-.52 0-1.04.2-1.43.59L10.3 9.45l-7.72 7.72c-.78.78-.78 2.05 0 2.83L4 21.41c.39.39.9.59 1.41.59.51 0 1.02-.2 1.41-.59l7.78-7.78 2.81-2.81c.8-.78.8-2.07 0-2.86zM5.41 20L4 18.59l7.72-7.72 1.47 1.35L5.41 20z\"/>\n",
              "  </svg>\n",
              "      </button>\n",
              "      \n",
              "  <style>\n",
              "    .colab-df-container {\n",
              "      display:flex;\n",
              "      flex-wrap:wrap;\n",
              "      gap: 12px;\n",
              "    }\n",
              "\n",
              "    .colab-df-convert {\n",
              "      background-color: #E8F0FE;\n",
              "      border: none;\n",
              "      border-radius: 50%;\n",
              "      cursor: pointer;\n",
              "      display: none;\n",
              "      fill: #1967D2;\n",
              "      height: 32px;\n",
              "      padding: 0 0 0 0;\n",
              "      width: 32px;\n",
              "    }\n",
              "\n",
              "    .colab-df-convert:hover {\n",
              "      background-color: #E2EBFA;\n",
              "      box-shadow: 0px 1px 2px rgba(60, 64, 67, 0.3), 0px 1px 3px 1px rgba(60, 64, 67, 0.15);\n",
              "      fill: #174EA6;\n",
              "    }\n",
              "\n",
              "    [theme=dark] .colab-df-convert {\n",
              "      background-color: #3B4455;\n",
              "      fill: #D2E3FC;\n",
              "    }\n",
              "\n",
              "    [theme=dark] .colab-df-convert:hover {\n",
              "      background-color: #434B5C;\n",
              "      box-shadow: 0px 1px 3px 1px rgba(0, 0, 0, 0.15);\n",
              "      filter: drop-shadow(0px 1px 2px rgba(0, 0, 0, 0.3));\n",
              "      fill: #FFFFFF;\n",
              "    }\n",
              "  </style>\n",
              "\n",
              "      <script>\n",
              "        const buttonEl =\n",
              "          document.querySelector('#df-c196a4f0-ec1a-46d6-a13b-8cafdc5460fc button.colab-df-convert');\n",
              "        buttonEl.style.display =\n",
              "          google.colab.kernel.accessAllowed ? 'block' : 'none';\n",
              "\n",
              "        async function convertToInteractive(key) {\n",
              "          const element = document.querySelector('#df-c196a4f0-ec1a-46d6-a13b-8cafdc5460fc');\n",
              "          const dataTable =\n",
              "            await google.colab.kernel.invokeFunction('convertToInteractive',\n",
              "                                                     [key], {});\n",
              "          if (!dataTable) return;\n",
              "\n",
              "          const docLinkHtml = 'Like what you see? Visit the ' +\n",
              "            '<a target=\"_blank\" href=https://colab.research.google.com/notebooks/data_table.ipynb>data table notebook</a>'\n",
              "            + ' to learn more about interactive tables.';\n",
              "          element.innerHTML = '';\n",
              "          dataTable['output_type'] = 'display_data';\n",
              "          await google.colab.output.renderOutput(dataTable, element);\n",
              "          const docLink = document.createElement('div');\n",
              "          docLink.innerHTML = docLinkHtml;\n",
              "          element.appendChild(docLink);\n",
              "        }\n",
              "      </script>\n",
              "    </div>\n",
              "  </div>\n",
              "  "
            ]
          },
          "metadata": {},
          "execution_count": 4
        }
      ],
      "source": [
        "df_nyc.head(3)"
      ]
    },
    {
      "cell_type": "code",
      "execution_count": 5,
      "metadata": {
        "colab": {
          "base_uri": "https://localhost:8080/",
          "height": 479
        },
        "id": "nD_05pBpuBD_",
        "outputId": "36fff857-022b-49c5-c676-20eb461d4249"
      },
      "outputs": [
        {
          "output_type": "execute_result",
          "data": {
            "text/plain": [
              "       Unnamed: 0  BOROUGH NEIGHBORHOOD  \\\n",
              "84545        8411        5      WOODROW   \n",
              "84546        8412        5      WOODROW   \n",
              "84547        8413        5      WOODROW   \n",
              "\n",
              "                           BUILDING CLASS CATEGORY TAX CLASS AT PRESENT  \\\n",
              "84545  02 TWO FAMILY DWELLINGS                                        1   \n",
              "84546  22 STORE BUILDINGS                                             4   \n",
              "84547  35 INDOOR PUBLIC AND CULTURAL FACILITIES                       4   \n",
              "\n",
              "       BLOCK  LOT EASE-MENT BUILDING CLASS AT PRESENT                ADDRESS  \\\n",
              "84545   7351   60                                  B2       49 PITNEY AVENUE   \n",
              "84546   7100   28                                  K6  2730 ARTHUR KILL ROAD   \n",
              "84547   7105  679                                  P9      155 CLAY PIT ROAD   \n",
              "\n",
              "       ... RESIDENTIAL UNITS  COMMERCIAL UNITS  TOTAL UNITS  LAND SQUARE FEET  \\\n",
              "84545  ...                 2                 0            2              4000   \n",
              "84546  ...                 0                 7            7            208033   \n",
              "84547  ...                 0                 1            1             10796   \n",
              "\n",
              "       GROSS SQUARE FEET YEAR BUILT TAX CLASS AT TIME OF SALE  \\\n",
              "84545               1496       1925                         1   \n",
              "84546              64117       2001                         4   \n",
              "84547               2400       2006                         4   \n",
              "\n",
              "       BUILDING CLASS AT TIME OF SALE  SALE PRICE            SALE DATE  \n",
              "84545                              B2      460000  2017-07-05 00:00:00  \n",
              "84546                              K6    11693337  2016-12-21 00:00:00  \n",
              "84547                              P9       69300  2016-10-27 00:00:00  \n",
              "\n",
              "[3 rows x 22 columns]"
            ],
            "text/html": [
              "\n",
              "  <div id=\"df-98a8c005-627e-494a-ba08-f4ddf211f4f3\">\n",
              "    <div class=\"colab-df-container\">\n",
              "      <div>\n",
              "<style scoped>\n",
              "    .dataframe tbody tr th:only-of-type {\n",
              "        vertical-align: middle;\n",
              "    }\n",
              "\n",
              "    .dataframe tbody tr th {\n",
              "        vertical-align: top;\n",
              "    }\n",
              "\n",
              "    .dataframe thead th {\n",
              "        text-align: right;\n",
              "    }\n",
              "</style>\n",
              "<table border=\"1\" class=\"dataframe\">\n",
              "  <thead>\n",
              "    <tr style=\"text-align: right;\">\n",
              "      <th></th>\n",
              "      <th>Unnamed: 0</th>\n",
              "      <th>BOROUGH</th>\n",
              "      <th>NEIGHBORHOOD</th>\n",
              "      <th>BUILDING CLASS CATEGORY</th>\n",
              "      <th>TAX CLASS AT PRESENT</th>\n",
              "      <th>BLOCK</th>\n",
              "      <th>LOT</th>\n",
              "      <th>EASE-MENT</th>\n",
              "      <th>BUILDING CLASS AT PRESENT</th>\n",
              "      <th>ADDRESS</th>\n",
              "      <th>...</th>\n",
              "      <th>RESIDENTIAL UNITS</th>\n",
              "      <th>COMMERCIAL UNITS</th>\n",
              "      <th>TOTAL UNITS</th>\n",
              "      <th>LAND SQUARE FEET</th>\n",
              "      <th>GROSS SQUARE FEET</th>\n",
              "      <th>YEAR BUILT</th>\n",
              "      <th>TAX CLASS AT TIME OF SALE</th>\n",
              "      <th>BUILDING CLASS AT TIME OF SALE</th>\n",
              "      <th>SALE PRICE</th>\n",
              "      <th>SALE DATE</th>\n",
              "    </tr>\n",
              "  </thead>\n",
              "  <tbody>\n",
              "    <tr>\n",
              "      <th>84545</th>\n",
              "      <td>8411</td>\n",
              "      <td>5</td>\n",
              "      <td>WOODROW</td>\n",
              "      <td>02 TWO FAMILY DWELLINGS</td>\n",
              "      <td>1</td>\n",
              "      <td>7351</td>\n",
              "      <td>60</td>\n",
              "      <td></td>\n",
              "      <td>B2</td>\n",
              "      <td>49 PITNEY AVENUE</td>\n",
              "      <td>...</td>\n",
              "      <td>2</td>\n",
              "      <td>0</td>\n",
              "      <td>2</td>\n",
              "      <td>4000</td>\n",
              "      <td>1496</td>\n",
              "      <td>1925</td>\n",
              "      <td>1</td>\n",
              "      <td>B2</td>\n",
              "      <td>460000</td>\n",
              "      <td>2017-07-05 00:00:00</td>\n",
              "    </tr>\n",
              "    <tr>\n",
              "      <th>84546</th>\n",
              "      <td>8412</td>\n",
              "      <td>5</td>\n",
              "      <td>WOODROW</td>\n",
              "      <td>22 STORE BUILDINGS</td>\n",
              "      <td>4</td>\n",
              "      <td>7100</td>\n",
              "      <td>28</td>\n",
              "      <td></td>\n",
              "      <td>K6</td>\n",
              "      <td>2730 ARTHUR KILL ROAD</td>\n",
              "      <td>...</td>\n",
              "      <td>0</td>\n",
              "      <td>7</td>\n",
              "      <td>7</td>\n",
              "      <td>208033</td>\n",
              "      <td>64117</td>\n",
              "      <td>2001</td>\n",
              "      <td>4</td>\n",
              "      <td>K6</td>\n",
              "      <td>11693337</td>\n",
              "      <td>2016-12-21 00:00:00</td>\n",
              "    </tr>\n",
              "    <tr>\n",
              "      <th>84547</th>\n",
              "      <td>8413</td>\n",
              "      <td>5</td>\n",
              "      <td>WOODROW</td>\n",
              "      <td>35 INDOOR PUBLIC AND CULTURAL FACILITIES</td>\n",
              "      <td>4</td>\n",
              "      <td>7105</td>\n",
              "      <td>679</td>\n",
              "      <td></td>\n",
              "      <td>P9</td>\n",
              "      <td>155 CLAY PIT ROAD</td>\n",
              "      <td>...</td>\n",
              "      <td>0</td>\n",
              "      <td>1</td>\n",
              "      <td>1</td>\n",
              "      <td>10796</td>\n",
              "      <td>2400</td>\n",
              "      <td>2006</td>\n",
              "      <td>4</td>\n",
              "      <td>P9</td>\n",
              "      <td>69300</td>\n",
              "      <td>2016-10-27 00:00:00</td>\n",
              "    </tr>\n",
              "  </tbody>\n",
              "</table>\n",
              "<p>3 rows × 22 columns</p>\n",
              "</div>\n",
              "      <button class=\"colab-df-convert\" onclick=\"convertToInteractive('df-98a8c005-627e-494a-ba08-f4ddf211f4f3')\"\n",
              "              title=\"Convert this dataframe to an interactive table.\"\n",
              "              style=\"display:none;\">\n",
              "        \n",
              "  <svg xmlns=\"http://www.w3.org/2000/svg\" height=\"24px\"viewBox=\"0 0 24 24\"\n",
              "       width=\"24px\">\n",
              "    <path d=\"M0 0h24v24H0V0z\" fill=\"none\"/>\n",
              "    <path d=\"M18.56 5.44l.94 2.06.94-2.06 2.06-.94-2.06-.94-.94-2.06-.94 2.06-2.06.94zm-11 1L8.5 8.5l.94-2.06 2.06-.94-2.06-.94L8.5 2.5l-.94 2.06-2.06.94zm10 10l.94 2.06.94-2.06 2.06-.94-2.06-.94-.94-2.06-.94 2.06-2.06.94z\"/><path d=\"M17.41 7.96l-1.37-1.37c-.4-.4-.92-.59-1.43-.59-.52 0-1.04.2-1.43.59L10.3 9.45l-7.72 7.72c-.78.78-.78 2.05 0 2.83L4 21.41c.39.39.9.59 1.41.59.51 0 1.02-.2 1.41-.59l7.78-7.78 2.81-2.81c.8-.78.8-2.07 0-2.86zM5.41 20L4 18.59l7.72-7.72 1.47 1.35L5.41 20z\"/>\n",
              "  </svg>\n",
              "      </button>\n",
              "      \n",
              "  <style>\n",
              "    .colab-df-container {\n",
              "      display:flex;\n",
              "      flex-wrap:wrap;\n",
              "      gap: 12px;\n",
              "    }\n",
              "\n",
              "    .colab-df-convert {\n",
              "      background-color: #E8F0FE;\n",
              "      border: none;\n",
              "      border-radius: 50%;\n",
              "      cursor: pointer;\n",
              "      display: none;\n",
              "      fill: #1967D2;\n",
              "      height: 32px;\n",
              "      padding: 0 0 0 0;\n",
              "      width: 32px;\n",
              "    }\n",
              "\n",
              "    .colab-df-convert:hover {\n",
              "      background-color: #E2EBFA;\n",
              "      box-shadow: 0px 1px 2px rgba(60, 64, 67, 0.3), 0px 1px 3px 1px rgba(60, 64, 67, 0.15);\n",
              "      fill: #174EA6;\n",
              "    }\n",
              "\n",
              "    [theme=dark] .colab-df-convert {\n",
              "      background-color: #3B4455;\n",
              "      fill: #D2E3FC;\n",
              "    }\n",
              "\n",
              "    [theme=dark] .colab-df-convert:hover {\n",
              "      background-color: #434B5C;\n",
              "      box-shadow: 0px 1px 3px 1px rgba(0, 0, 0, 0.15);\n",
              "      filter: drop-shadow(0px 1px 2px rgba(0, 0, 0, 0.3));\n",
              "      fill: #FFFFFF;\n",
              "    }\n",
              "  </style>\n",
              "\n",
              "      <script>\n",
              "        const buttonEl =\n",
              "          document.querySelector('#df-98a8c005-627e-494a-ba08-f4ddf211f4f3 button.colab-df-convert');\n",
              "        buttonEl.style.display =\n",
              "          google.colab.kernel.accessAllowed ? 'block' : 'none';\n",
              "\n",
              "        async function convertToInteractive(key) {\n",
              "          const element = document.querySelector('#df-98a8c005-627e-494a-ba08-f4ddf211f4f3');\n",
              "          const dataTable =\n",
              "            await google.colab.kernel.invokeFunction('convertToInteractive',\n",
              "                                                     [key], {});\n",
              "          if (!dataTable) return;\n",
              "\n",
              "          const docLinkHtml = 'Like what you see? Visit the ' +\n",
              "            '<a target=\"_blank\" href=https://colab.research.google.com/notebooks/data_table.ipynb>data table notebook</a>'\n",
              "            + ' to learn more about interactive tables.';\n",
              "          element.innerHTML = '';\n",
              "          dataTable['output_type'] = 'display_data';\n",
              "          await google.colab.output.renderOutput(dataTable, element);\n",
              "          const docLink = document.createElement('div');\n",
              "          docLink.innerHTML = docLinkHtml;\n",
              "          element.appendChild(docLink);\n",
              "        }\n",
              "      </script>\n",
              "    </div>\n",
              "  </div>\n",
              "  "
            ]
          },
          "metadata": {},
          "execution_count": 5
        }
      ],
      "source": [
        "df_nyc.tail(3)"
      ]
    },
    {
      "cell_type": "code",
      "execution_count": 6,
      "metadata": {
        "colab": {
          "base_uri": "https://localhost:8080/"
        },
        "id": "6A4XvwkyuBEA",
        "outputId": "a8efd2c1-06a7-4545-facf-12a049283c6d"
      },
      "outputs": [
        {
          "output_type": "execute_result",
          "data": {
            "text/plain": [
              "(84548, 22)"
            ]
          },
          "metadata": {},
          "execution_count": 6
        }
      ],
      "source": [
        "df_nyc.shape"
      ]
    },
    {
      "cell_type": "code",
      "execution_count": 7,
      "metadata": {
        "colab": {
          "base_uri": "https://localhost:8080/",
          "height": 300
        },
        "id": "hIHSi_43uBEA",
        "outputId": "1620eaef-b5bf-4e05-91f3-bbde8b2ea00f"
      },
      "outputs": [
        {
          "output_type": "execute_result",
          "data": {
            "text/plain": [
              "         Unnamed: 0       BOROUGH         BLOCK           LOT      ZIP CODE  \\\n",
              "count  84548.000000  84548.000000  84548.000000  84548.000000  84548.000000   \n",
              "mean   10344.359878      2.998758   4237.218976    376.224015  10731.991614   \n",
              "std     7151.779436      1.289790   3568.263407    658.136814   1290.879147   \n",
              "min        4.000000      1.000000      1.000000      1.000000      0.000000   \n",
              "25%     4231.000000      2.000000   1322.750000     22.000000  10305.000000   \n",
              "50%     8942.000000      3.000000   3311.000000     50.000000  11209.000000   \n",
              "75%    15987.250000      4.000000   6281.000000   1001.000000  11357.000000   \n",
              "max    26739.000000      5.000000  16322.000000   9106.000000  11694.000000   \n",
              "\n",
              "       RESIDENTIAL UNITS  COMMERCIAL UNITS   TOTAL UNITS    YEAR BUILT  \\\n",
              "count       84548.000000      84548.000000  84548.000000  84548.000000   \n",
              "mean            2.025264          0.193559      2.249184   1789.322976   \n",
              "std            16.721037          8.713183     18.972584    537.344993   \n",
              "min             0.000000          0.000000      0.000000      0.000000   \n",
              "25%             0.000000          0.000000      1.000000   1920.000000   \n",
              "50%             1.000000          0.000000      1.000000   1940.000000   \n",
              "75%             2.000000          0.000000      2.000000   1965.000000   \n",
              "max          1844.000000       2261.000000   2261.000000   2017.000000   \n",
              "\n",
              "       TAX CLASS AT TIME OF SALE  \n",
              "count               84548.000000  \n",
              "mean                    1.657485  \n",
              "std                     0.819341  \n",
              "min                     1.000000  \n",
              "25%                     1.000000  \n",
              "50%                     2.000000  \n",
              "75%                     2.000000  \n",
              "max                     4.000000  "
            ],
            "text/html": [
              "\n",
              "  <div id=\"df-e49eec70-69f5-4c4f-a05a-4408db728996\">\n",
              "    <div class=\"colab-df-container\">\n",
              "      <div>\n",
              "<style scoped>\n",
              "    .dataframe tbody tr th:only-of-type {\n",
              "        vertical-align: middle;\n",
              "    }\n",
              "\n",
              "    .dataframe tbody tr th {\n",
              "        vertical-align: top;\n",
              "    }\n",
              "\n",
              "    .dataframe thead th {\n",
              "        text-align: right;\n",
              "    }\n",
              "</style>\n",
              "<table border=\"1\" class=\"dataframe\">\n",
              "  <thead>\n",
              "    <tr style=\"text-align: right;\">\n",
              "      <th></th>\n",
              "      <th>Unnamed: 0</th>\n",
              "      <th>BOROUGH</th>\n",
              "      <th>BLOCK</th>\n",
              "      <th>LOT</th>\n",
              "      <th>ZIP CODE</th>\n",
              "      <th>RESIDENTIAL UNITS</th>\n",
              "      <th>COMMERCIAL UNITS</th>\n",
              "      <th>TOTAL UNITS</th>\n",
              "      <th>YEAR BUILT</th>\n",
              "      <th>TAX CLASS AT TIME OF SALE</th>\n",
              "    </tr>\n",
              "  </thead>\n",
              "  <tbody>\n",
              "    <tr>\n",
              "      <th>count</th>\n",
              "      <td>84548.000000</td>\n",
              "      <td>84548.000000</td>\n",
              "      <td>84548.000000</td>\n",
              "      <td>84548.000000</td>\n",
              "      <td>84548.000000</td>\n",
              "      <td>84548.000000</td>\n",
              "      <td>84548.000000</td>\n",
              "      <td>84548.000000</td>\n",
              "      <td>84548.000000</td>\n",
              "      <td>84548.000000</td>\n",
              "    </tr>\n",
              "    <tr>\n",
              "      <th>mean</th>\n",
              "      <td>10344.359878</td>\n",
              "      <td>2.998758</td>\n",
              "      <td>4237.218976</td>\n",
              "      <td>376.224015</td>\n",
              "      <td>10731.991614</td>\n",
              "      <td>2.025264</td>\n",
              "      <td>0.193559</td>\n",
              "      <td>2.249184</td>\n",
              "      <td>1789.322976</td>\n",
              "      <td>1.657485</td>\n",
              "    </tr>\n",
              "    <tr>\n",
              "      <th>std</th>\n",
              "      <td>7151.779436</td>\n",
              "      <td>1.289790</td>\n",
              "      <td>3568.263407</td>\n",
              "      <td>658.136814</td>\n",
              "      <td>1290.879147</td>\n",
              "      <td>16.721037</td>\n",
              "      <td>8.713183</td>\n",
              "      <td>18.972584</td>\n",
              "      <td>537.344993</td>\n",
              "      <td>0.819341</td>\n",
              "    </tr>\n",
              "    <tr>\n",
              "      <th>min</th>\n",
              "      <td>4.000000</td>\n",
              "      <td>1.000000</td>\n",
              "      <td>1.000000</td>\n",
              "      <td>1.000000</td>\n",
              "      <td>0.000000</td>\n",
              "      <td>0.000000</td>\n",
              "      <td>0.000000</td>\n",
              "      <td>0.000000</td>\n",
              "      <td>0.000000</td>\n",
              "      <td>1.000000</td>\n",
              "    </tr>\n",
              "    <tr>\n",
              "      <th>25%</th>\n",
              "      <td>4231.000000</td>\n",
              "      <td>2.000000</td>\n",
              "      <td>1322.750000</td>\n",
              "      <td>22.000000</td>\n",
              "      <td>10305.000000</td>\n",
              "      <td>0.000000</td>\n",
              "      <td>0.000000</td>\n",
              "      <td>1.000000</td>\n",
              "      <td>1920.000000</td>\n",
              "      <td>1.000000</td>\n",
              "    </tr>\n",
              "    <tr>\n",
              "      <th>50%</th>\n",
              "      <td>8942.000000</td>\n",
              "      <td>3.000000</td>\n",
              "      <td>3311.000000</td>\n",
              "      <td>50.000000</td>\n",
              "      <td>11209.000000</td>\n",
              "      <td>1.000000</td>\n",
              "      <td>0.000000</td>\n",
              "      <td>1.000000</td>\n",
              "      <td>1940.000000</td>\n",
              "      <td>2.000000</td>\n",
              "    </tr>\n",
              "    <tr>\n",
              "      <th>75%</th>\n",
              "      <td>15987.250000</td>\n",
              "      <td>4.000000</td>\n",
              "      <td>6281.000000</td>\n",
              "      <td>1001.000000</td>\n",
              "      <td>11357.000000</td>\n",
              "      <td>2.000000</td>\n",
              "      <td>0.000000</td>\n",
              "      <td>2.000000</td>\n",
              "      <td>1965.000000</td>\n",
              "      <td>2.000000</td>\n",
              "    </tr>\n",
              "    <tr>\n",
              "      <th>max</th>\n",
              "      <td>26739.000000</td>\n",
              "      <td>5.000000</td>\n",
              "      <td>16322.000000</td>\n",
              "      <td>9106.000000</td>\n",
              "      <td>11694.000000</td>\n",
              "      <td>1844.000000</td>\n",
              "      <td>2261.000000</td>\n",
              "      <td>2261.000000</td>\n",
              "      <td>2017.000000</td>\n",
              "      <td>4.000000</td>\n",
              "    </tr>\n",
              "  </tbody>\n",
              "</table>\n",
              "</div>\n",
              "      <button class=\"colab-df-convert\" onclick=\"convertToInteractive('df-e49eec70-69f5-4c4f-a05a-4408db728996')\"\n",
              "              title=\"Convert this dataframe to an interactive table.\"\n",
              "              style=\"display:none;\">\n",
              "        \n",
              "  <svg xmlns=\"http://www.w3.org/2000/svg\" height=\"24px\"viewBox=\"0 0 24 24\"\n",
              "       width=\"24px\">\n",
              "    <path d=\"M0 0h24v24H0V0z\" fill=\"none\"/>\n",
              "    <path d=\"M18.56 5.44l.94 2.06.94-2.06 2.06-.94-2.06-.94-.94-2.06-.94 2.06-2.06.94zm-11 1L8.5 8.5l.94-2.06 2.06-.94-2.06-.94L8.5 2.5l-.94 2.06-2.06.94zm10 10l.94 2.06.94-2.06 2.06-.94-2.06-.94-.94-2.06-.94 2.06-2.06.94z\"/><path d=\"M17.41 7.96l-1.37-1.37c-.4-.4-.92-.59-1.43-.59-.52 0-1.04.2-1.43.59L10.3 9.45l-7.72 7.72c-.78.78-.78 2.05 0 2.83L4 21.41c.39.39.9.59 1.41.59.51 0 1.02-.2 1.41-.59l7.78-7.78 2.81-2.81c.8-.78.8-2.07 0-2.86zM5.41 20L4 18.59l7.72-7.72 1.47 1.35L5.41 20z\"/>\n",
              "  </svg>\n",
              "      </button>\n",
              "      \n",
              "  <style>\n",
              "    .colab-df-container {\n",
              "      display:flex;\n",
              "      flex-wrap:wrap;\n",
              "      gap: 12px;\n",
              "    }\n",
              "\n",
              "    .colab-df-convert {\n",
              "      background-color: #E8F0FE;\n",
              "      border: none;\n",
              "      border-radius: 50%;\n",
              "      cursor: pointer;\n",
              "      display: none;\n",
              "      fill: #1967D2;\n",
              "      height: 32px;\n",
              "      padding: 0 0 0 0;\n",
              "      width: 32px;\n",
              "    }\n",
              "\n",
              "    .colab-df-convert:hover {\n",
              "      background-color: #E2EBFA;\n",
              "      box-shadow: 0px 1px 2px rgba(60, 64, 67, 0.3), 0px 1px 3px 1px rgba(60, 64, 67, 0.15);\n",
              "      fill: #174EA6;\n",
              "    }\n",
              "\n",
              "    [theme=dark] .colab-df-convert {\n",
              "      background-color: #3B4455;\n",
              "      fill: #D2E3FC;\n",
              "    }\n",
              "\n",
              "    [theme=dark] .colab-df-convert:hover {\n",
              "      background-color: #434B5C;\n",
              "      box-shadow: 0px 1px 3px 1px rgba(0, 0, 0, 0.15);\n",
              "      filter: drop-shadow(0px 1px 2px rgba(0, 0, 0, 0.3));\n",
              "      fill: #FFFFFF;\n",
              "    }\n",
              "  </style>\n",
              "\n",
              "      <script>\n",
              "        const buttonEl =\n",
              "          document.querySelector('#df-e49eec70-69f5-4c4f-a05a-4408db728996 button.colab-df-convert');\n",
              "        buttonEl.style.display =\n",
              "          google.colab.kernel.accessAllowed ? 'block' : 'none';\n",
              "\n",
              "        async function convertToInteractive(key) {\n",
              "          const element = document.querySelector('#df-e49eec70-69f5-4c4f-a05a-4408db728996');\n",
              "          const dataTable =\n",
              "            await google.colab.kernel.invokeFunction('convertToInteractive',\n",
              "                                                     [key], {});\n",
              "          if (!dataTable) return;\n",
              "\n",
              "          const docLinkHtml = 'Like what you see? Visit the ' +\n",
              "            '<a target=\"_blank\" href=https://colab.research.google.com/notebooks/data_table.ipynb>data table notebook</a>'\n",
              "            + ' to learn more about interactive tables.';\n",
              "          element.innerHTML = '';\n",
              "          dataTable['output_type'] = 'display_data';\n",
              "          await google.colab.output.renderOutput(dataTable, element);\n",
              "          const docLink = document.createElement('div');\n",
              "          docLink.innerHTML = docLinkHtml;\n",
              "          element.appendChild(docLink);\n",
              "        }\n",
              "      </script>\n",
              "    </div>\n",
              "  </div>\n",
              "  "
            ]
          },
          "metadata": {},
          "execution_count": 7
        }
      ],
      "source": [
        "df_nyc.describe()"
      ]
    },
    {
      "cell_type": "code",
      "execution_count": 8,
      "metadata": {
        "colab": {
          "base_uri": "https://localhost:8080/"
        },
        "id": "HN9tpCP3uBEB",
        "outputId": "00f5a647-d972-492b-8180-3fb5902e9d2d"
      },
      "outputs": [
        {
          "output_type": "stream",
          "name": "stdout",
          "text": [
            "<class 'pandas.core.frame.DataFrame'>\n",
            "RangeIndex: 84548 entries, 0 to 84547\n",
            "Data columns (total 22 columns):\n",
            " #   Column                          Non-Null Count  Dtype \n",
            "---  ------                          --------------  ----- \n",
            " 0   Unnamed: 0                      84548 non-null  int64 \n",
            " 1   BOROUGH                         84548 non-null  int64 \n",
            " 2   NEIGHBORHOOD                    84548 non-null  object\n",
            " 3   BUILDING CLASS CATEGORY         84548 non-null  object\n",
            " 4   TAX CLASS AT PRESENT            84548 non-null  object\n",
            " 5   BLOCK                           84548 non-null  int64 \n",
            " 6   LOT                             84548 non-null  int64 \n",
            " 7   EASE-MENT                       84548 non-null  object\n",
            " 8   BUILDING CLASS AT PRESENT       84548 non-null  object\n",
            " 9   ADDRESS                         84548 non-null  object\n",
            " 10  APARTMENT NUMBER                84548 non-null  object\n",
            " 11  ZIP CODE                        84548 non-null  int64 \n",
            " 12  RESIDENTIAL UNITS               84548 non-null  int64 \n",
            " 13  COMMERCIAL UNITS                84548 non-null  int64 \n",
            " 14  TOTAL UNITS                     84548 non-null  int64 \n",
            " 15  LAND SQUARE FEET                84548 non-null  object\n",
            " 16  GROSS SQUARE FEET               84548 non-null  object\n",
            " 17  YEAR BUILT                      84548 non-null  int64 \n",
            " 18  TAX CLASS AT TIME OF SALE       84548 non-null  int64 \n",
            " 19  BUILDING CLASS AT TIME OF SALE  84548 non-null  object\n",
            " 20  SALE PRICE                      84548 non-null  object\n",
            " 21  SALE DATE                       84548 non-null  object\n",
            "dtypes: int64(10), object(12)\n",
            "memory usage: 14.2+ MB\n"
          ]
        }
      ],
      "source": [
        "df_nyc.info()"
      ]
    },
    {
      "cell_type": "markdown",
      "metadata": {
        "id": "ZvPXrx7tuBEC"
      },
      "source": [
        "## DATA CLEANING\n",
        "---"
      ]
    },
    {
      "cell_type": "code",
      "execution_count": 9,
      "metadata": {
        "colab": {
          "base_uri": "https://localhost:8080/",
          "height": 510
        },
        "id": "lO8slUgBuBEC",
        "outputId": "69852bda-3335-455c-8dd5-ebcf8ce892b3"
      },
      "outputs": [
        {
          "output_type": "execute_result",
          "data": {
            "text/plain": [
              "   BOROUGH   NEIGHBORHOOD                      BUILDING CLASS CATEGORY  \\\n",
              "0        1  ALPHABET CITY  07 RENTALS - WALKUP APARTMENTS                \n",
              "1        1  ALPHABET CITY  07 RENTALS - WALKUP APARTMENTS                \n",
              "2        1  ALPHABET CITY  07 RENTALS - WALKUP APARTMENTS                \n",
              "3        1  ALPHABET CITY  07 RENTALS - WALKUP APARTMENTS                \n",
              "4        1  ALPHABET CITY  07 RENTALS - WALKUP APARTMENTS                \n",
              "\n",
              "  TAX CLASS AT PRESENT  BLOCK  LOT BUILDING CLASS AT PRESENT  \\\n",
              "0                   2A    392    6                        C2   \n",
              "1                    2    399   26                        C7   \n",
              "2                    2    399   39                        C7   \n",
              "3                   2B    402   21                        C4   \n",
              "4                   2A    404   55                        C2   \n",
              "\n",
              "                  ADDRESS  RESIDENTIAL UNITS  COMMERCIAL UNITS  TOTAL UNITS  \\\n",
              "0            153 AVENUE B                  5                 0            5   \n",
              "1   234 EAST 4TH   STREET                 28                 3           31   \n",
              "2   197 EAST 3RD   STREET                 16                 1           17   \n",
              "3     154 EAST 7TH STREET                 10                 0           10   \n",
              "4  301 EAST 10TH   STREET                  6                 0            6   \n",
              "\n",
              "  LAND SQUARE FEET GROSS SQUARE FEET  YEAR BUILT  TAX CLASS AT TIME OF SALE  \\\n",
              "0             1633              6440        1900                          2   \n",
              "1             4616             18690        1900                          2   \n",
              "2             2212              7803        1900                          2   \n",
              "3             2272              6794        1913                          2   \n",
              "4             2369              4615        1900                          2   \n",
              "\n",
              "  BUILDING CLASS AT TIME OF SALE SALE PRICE            SALE DATE  \n",
              "0                             C2    6625000  2017-07-19 00:00:00  \n",
              "1                             C7        -    2016-12-14 00:00:00  \n",
              "2                             C7        -    2016-12-09 00:00:00  \n",
              "3                             C4    3936272  2016-09-23 00:00:00  \n",
              "4                             C2    8000000  2016-11-17 00:00:00  "
            ],
            "text/html": [
              "\n",
              "  <div id=\"df-0c49220b-f393-46c5-a0be-8f048882d06c\">\n",
              "    <div class=\"colab-df-container\">\n",
              "      <div>\n",
              "<style scoped>\n",
              "    .dataframe tbody tr th:only-of-type {\n",
              "        vertical-align: middle;\n",
              "    }\n",
              "\n",
              "    .dataframe tbody tr th {\n",
              "        vertical-align: top;\n",
              "    }\n",
              "\n",
              "    .dataframe thead th {\n",
              "        text-align: right;\n",
              "    }\n",
              "</style>\n",
              "<table border=\"1\" class=\"dataframe\">\n",
              "  <thead>\n",
              "    <tr style=\"text-align: right;\">\n",
              "      <th></th>\n",
              "      <th>BOROUGH</th>\n",
              "      <th>NEIGHBORHOOD</th>\n",
              "      <th>BUILDING CLASS CATEGORY</th>\n",
              "      <th>TAX CLASS AT PRESENT</th>\n",
              "      <th>BLOCK</th>\n",
              "      <th>LOT</th>\n",
              "      <th>BUILDING CLASS AT PRESENT</th>\n",
              "      <th>ADDRESS</th>\n",
              "      <th>RESIDENTIAL UNITS</th>\n",
              "      <th>COMMERCIAL UNITS</th>\n",
              "      <th>TOTAL UNITS</th>\n",
              "      <th>LAND SQUARE FEET</th>\n",
              "      <th>GROSS SQUARE FEET</th>\n",
              "      <th>YEAR BUILT</th>\n",
              "      <th>TAX CLASS AT TIME OF SALE</th>\n",
              "      <th>BUILDING CLASS AT TIME OF SALE</th>\n",
              "      <th>SALE PRICE</th>\n",
              "      <th>SALE DATE</th>\n",
              "    </tr>\n",
              "  </thead>\n",
              "  <tbody>\n",
              "    <tr>\n",
              "      <th>0</th>\n",
              "      <td>1</td>\n",
              "      <td>ALPHABET CITY</td>\n",
              "      <td>07 RENTALS - WALKUP APARTMENTS</td>\n",
              "      <td>2A</td>\n",
              "      <td>392</td>\n",
              "      <td>6</td>\n",
              "      <td>C2</td>\n",
              "      <td>153 AVENUE B</td>\n",
              "      <td>5</td>\n",
              "      <td>0</td>\n",
              "      <td>5</td>\n",
              "      <td>1633</td>\n",
              "      <td>6440</td>\n",
              "      <td>1900</td>\n",
              "      <td>2</td>\n",
              "      <td>C2</td>\n",
              "      <td>6625000</td>\n",
              "      <td>2017-07-19 00:00:00</td>\n",
              "    </tr>\n",
              "    <tr>\n",
              "      <th>1</th>\n",
              "      <td>1</td>\n",
              "      <td>ALPHABET CITY</td>\n",
              "      <td>07 RENTALS - WALKUP APARTMENTS</td>\n",
              "      <td>2</td>\n",
              "      <td>399</td>\n",
              "      <td>26</td>\n",
              "      <td>C7</td>\n",
              "      <td>234 EAST 4TH   STREET</td>\n",
              "      <td>28</td>\n",
              "      <td>3</td>\n",
              "      <td>31</td>\n",
              "      <td>4616</td>\n",
              "      <td>18690</td>\n",
              "      <td>1900</td>\n",
              "      <td>2</td>\n",
              "      <td>C7</td>\n",
              "      <td>-</td>\n",
              "      <td>2016-12-14 00:00:00</td>\n",
              "    </tr>\n",
              "    <tr>\n",
              "      <th>2</th>\n",
              "      <td>1</td>\n",
              "      <td>ALPHABET CITY</td>\n",
              "      <td>07 RENTALS - WALKUP APARTMENTS</td>\n",
              "      <td>2</td>\n",
              "      <td>399</td>\n",
              "      <td>39</td>\n",
              "      <td>C7</td>\n",
              "      <td>197 EAST 3RD   STREET</td>\n",
              "      <td>16</td>\n",
              "      <td>1</td>\n",
              "      <td>17</td>\n",
              "      <td>2212</td>\n",
              "      <td>7803</td>\n",
              "      <td>1900</td>\n",
              "      <td>2</td>\n",
              "      <td>C7</td>\n",
              "      <td>-</td>\n",
              "      <td>2016-12-09 00:00:00</td>\n",
              "    </tr>\n",
              "    <tr>\n",
              "      <th>3</th>\n",
              "      <td>1</td>\n",
              "      <td>ALPHABET CITY</td>\n",
              "      <td>07 RENTALS - WALKUP APARTMENTS</td>\n",
              "      <td>2B</td>\n",
              "      <td>402</td>\n",
              "      <td>21</td>\n",
              "      <td>C4</td>\n",
              "      <td>154 EAST 7TH STREET</td>\n",
              "      <td>10</td>\n",
              "      <td>0</td>\n",
              "      <td>10</td>\n",
              "      <td>2272</td>\n",
              "      <td>6794</td>\n",
              "      <td>1913</td>\n",
              "      <td>2</td>\n",
              "      <td>C4</td>\n",
              "      <td>3936272</td>\n",
              "      <td>2016-09-23 00:00:00</td>\n",
              "    </tr>\n",
              "    <tr>\n",
              "      <th>4</th>\n",
              "      <td>1</td>\n",
              "      <td>ALPHABET CITY</td>\n",
              "      <td>07 RENTALS - WALKUP APARTMENTS</td>\n",
              "      <td>2A</td>\n",
              "      <td>404</td>\n",
              "      <td>55</td>\n",
              "      <td>C2</td>\n",
              "      <td>301 EAST 10TH   STREET</td>\n",
              "      <td>6</td>\n",
              "      <td>0</td>\n",
              "      <td>6</td>\n",
              "      <td>2369</td>\n",
              "      <td>4615</td>\n",
              "      <td>1900</td>\n",
              "      <td>2</td>\n",
              "      <td>C2</td>\n",
              "      <td>8000000</td>\n",
              "      <td>2016-11-17 00:00:00</td>\n",
              "    </tr>\n",
              "  </tbody>\n",
              "</table>\n",
              "</div>\n",
              "      <button class=\"colab-df-convert\" onclick=\"convertToInteractive('df-0c49220b-f393-46c5-a0be-8f048882d06c')\"\n",
              "              title=\"Convert this dataframe to an interactive table.\"\n",
              "              style=\"display:none;\">\n",
              "        \n",
              "  <svg xmlns=\"http://www.w3.org/2000/svg\" height=\"24px\"viewBox=\"0 0 24 24\"\n",
              "       width=\"24px\">\n",
              "    <path d=\"M0 0h24v24H0V0z\" fill=\"none\"/>\n",
              "    <path d=\"M18.56 5.44l.94 2.06.94-2.06 2.06-.94-2.06-.94-.94-2.06-.94 2.06-2.06.94zm-11 1L8.5 8.5l.94-2.06 2.06-.94-2.06-.94L8.5 2.5l-.94 2.06-2.06.94zm10 10l.94 2.06.94-2.06 2.06-.94-2.06-.94-.94-2.06-.94 2.06-2.06.94z\"/><path d=\"M17.41 7.96l-1.37-1.37c-.4-.4-.92-.59-1.43-.59-.52 0-1.04.2-1.43.59L10.3 9.45l-7.72 7.72c-.78.78-.78 2.05 0 2.83L4 21.41c.39.39.9.59 1.41.59.51 0 1.02-.2 1.41-.59l7.78-7.78 2.81-2.81c.8-.78.8-2.07 0-2.86zM5.41 20L4 18.59l7.72-7.72 1.47 1.35L5.41 20z\"/>\n",
              "  </svg>\n",
              "      </button>\n",
              "      \n",
              "  <style>\n",
              "    .colab-df-container {\n",
              "      display:flex;\n",
              "      flex-wrap:wrap;\n",
              "      gap: 12px;\n",
              "    }\n",
              "\n",
              "    .colab-df-convert {\n",
              "      background-color: #E8F0FE;\n",
              "      border: none;\n",
              "      border-radius: 50%;\n",
              "      cursor: pointer;\n",
              "      display: none;\n",
              "      fill: #1967D2;\n",
              "      height: 32px;\n",
              "      padding: 0 0 0 0;\n",
              "      width: 32px;\n",
              "    }\n",
              "\n",
              "    .colab-df-convert:hover {\n",
              "      background-color: #E2EBFA;\n",
              "      box-shadow: 0px 1px 2px rgba(60, 64, 67, 0.3), 0px 1px 3px 1px rgba(60, 64, 67, 0.15);\n",
              "      fill: #174EA6;\n",
              "    }\n",
              "\n",
              "    [theme=dark] .colab-df-convert {\n",
              "      background-color: #3B4455;\n",
              "      fill: #D2E3FC;\n",
              "    }\n",
              "\n",
              "    [theme=dark] .colab-df-convert:hover {\n",
              "      background-color: #434B5C;\n",
              "      box-shadow: 0px 1px 3px 1px rgba(0, 0, 0, 0.15);\n",
              "      filter: drop-shadow(0px 1px 2px rgba(0, 0, 0, 0.3));\n",
              "      fill: #FFFFFF;\n",
              "    }\n",
              "  </style>\n",
              "\n",
              "      <script>\n",
              "        const buttonEl =\n",
              "          document.querySelector('#df-0c49220b-f393-46c5-a0be-8f048882d06c button.colab-df-convert');\n",
              "        buttonEl.style.display =\n",
              "          google.colab.kernel.accessAllowed ? 'block' : 'none';\n",
              "\n",
              "        async function convertToInteractive(key) {\n",
              "          const element = document.querySelector('#df-0c49220b-f393-46c5-a0be-8f048882d06c');\n",
              "          const dataTable =\n",
              "            await google.colab.kernel.invokeFunction('convertToInteractive',\n",
              "                                                     [key], {});\n",
              "          if (!dataTable) return;\n",
              "\n",
              "          const docLinkHtml = 'Like what you see? Visit the ' +\n",
              "            '<a target=\"_blank\" href=https://colab.research.google.com/notebooks/data_table.ipynb>data table notebook</a>'\n",
              "            + ' to learn more about interactive tables.';\n",
              "          element.innerHTML = '';\n",
              "          dataTable['output_type'] = 'display_data';\n",
              "          await google.colab.output.renderOutput(dataTable, element);\n",
              "          const docLink = document.createElement('div');\n",
              "          docLink.innerHTML = docLinkHtml;\n",
              "          element.appendChild(docLink);\n",
              "        }\n",
              "      </script>\n",
              "    </div>\n",
              "  </div>\n",
              "  "
            ]
          },
          "metadata": {},
          "execution_count": 9
        }
      ],
      "source": [
        "del_column=(['Unnamed: 0','EASE-MENT','APARTMENT NUMBER','ZIP CODE'])\n",
        "df_nyc.drop(del_column, axis=1, inplace=True)\n",
        "\n",
        "df_nyc.head(5)"
      ]
    },
    {
      "cell_type": "code",
      "execution_count": 10,
      "metadata": {
        "colab": {
          "base_uri": "https://localhost:8080/"
        },
        "id": "uS23C4QNuBED",
        "outputId": "2cc279ef-d1f3-4143-8c0a-e803356baa93"
      },
      "outputs": [
        {
          "output_type": "execute_result",
          "data": {
            "text/plain": [
              "(84548, 18)"
            ]
          },
          "metadata": {},
          "execution_count": 10
        }
      ],
      "source": [
        "# melihat ukuran shape dari dataset\n",
        "df_nyc.shape"
      ]
    },
    {
      "cell_type": "code",
      "execution_count": 11,
      "metadata": {
        "colab": {
          "base_uri": "https://localhost:8080/",
          "height": 510
        },
        "id": "qC2pClBEuBED",
        "outputId": "5658d66c-bc51-4662-c833-38d12fee8f67"
      },
      "outputs": [
        {
          "output_type": "execute_result",
          "data": {
            "text/plain": [
              "     BOROUGH   NEIGHBORHOOD                      BUILDING CLASS CATEGORY  \\\n",
              "0  Manhattan  ALPHABET CITY  07 RENTALS - WALKUP APARTMENTS                \n",
              "1  Manhattan  ALPHABET CITY  07 RENTALS - WALKUP APARTMENTS                \n",
              "2  Manhattan  ALPHABET CITY  07 RENTALS - WALKUP APARTMENTS                \n",
              "3  Manhattan  ALPHABET CITY  07 RENTALS - WALKUP APARTMENTS                \n",
              "4  Manhattan  ALPHABET CITY  07 RENTALS - WALKUP APARTMENTS                \n",
              "\n",
              "  TAX CLASS AT PRESENT  BLOCK  LOT BUILDING CLASS AT PRESENT  \\\n",
              "0                   2A    392    6                        C2   \n",
              "1                    2    399   26                        C7   \n",
              "2                    2    399   39                        C7   \n",
              "3                   2B    402   21                        C4   \n",
              "4                   2A    404   55                        C2   \n",
              "\n",
              "                  ADDRESS  RESIDENTIAL UNITS  COMMERCIAL UNITS  TOTAL UNITS  \\\n",
              "0            153 AVENUE B                  5                 0            5   \n",
              "1   234 EAST 4TH   STREET                 28                 3           31   \n",
              "2   197 EAST 3RD   STREET                 16                 1           17   \n",
              "3     154 EAST 7TH STREET                 10                 0           10   \n",
              "4  301 EAST 10TH   STREET                  6                 0            6   \n",
              "\n",
              "  LAND SQUARE FEET GROSS SQUARE FEET  YEAR BUILT  TAX CLASS AT TIME OF SALE  \\\n",
              "0             1633              6440        1900                          2   \n",
              "1             4616             18690        1900                          2   \n",
              "2             2212              7803        1900                          2   \n",
              "3             2272              6794        1913                          2   \n",
              "4             2369              4615        1900                          2   \n",
              "\n",
              "  BUILDING CLASS AT TIME OF SALE SALE PRICE            SALE DATE  \n",
              "0                             C2    6625000  2017-07-19 00:00:00  \n",
              "1                             C7        -    2016-12-14 00:00:00  \n",
              "2                             C7        -    2016-12-09 00:00:00  \n",
              "3                             C4    3936272  2016-09-23 00:00:00  \n",
              "4                             C2    8000000  2016-11-17 00:00:00  "
            ],
            "text/html": [
              "\n",
              "  <div id=\"df-da9ce3ab-3e76-46cc-ba78-ac0909056f3f\">\n",
              "    <div class=\"colab-df-container\">\n",
              "      <div>\n",
              "<style scoped>\n",
              "    .dataframe tbody tr th:only-of-type {\n",
              "        vertical-align: middle;\n",
              "    }\n",
              "\n",
              "    .dataframe tbody tr th {\n",
              "        vertical-align: top;\n",
              "    }\n",
              "\n",
              "    .dataframe thead th {\n",
              "        text-align: right;\n",
              "    }\n",
              "</style>\n",
              "<table border=\"1\" class=\"dataframe\">\n",
              "  <thead>\n",
              "    <tr style=\"text-align: right;\">\n",
              "      <th></th>\n",
              "      <th>BOROUGH</th>\n",
              "      <th>NEIGHBORHOOD</th>\n",
              "      <th>BUILDING CLASS CATEGORY</th>\n",
              "      <th>TAX CLASS AT PRESENT</th>\n",
              "      <th>BLOCK</th>\n",
              "      <th>LOT</th>\n",
              "      <th>BUILDING CLASS AT PRESENT</th>\n",
              "      <th>ADDRESS</th>\n",
              "      <th>RESIDENTIAL UNITS</th>\n",
              "      <th>COMMERCIAL UNITS</th>\n",
              "      <th>TOTAL UNITS</th>\n",
              "      <th>LAND SQUARE FEET</th>\n",
              "      <th>GROSS SQUARE FEET</th>\n",
              "      <th>YEAR BUILT</th>\n",
              "      <th>TAX CLASS AT TIME OF SALE</th>\n",
              "      <th>BUILDING CLASS AT TIME OF SALE</th>\n",
              "      <th>SALE PRICE</th>\n",
              "      <th>SALE DATE</th>\n",
              "    </tr>\n",
              "  </thead>\n",
              "  <tbody>\n",
              "    <tr>\n",
              "      <th>0</th>\n",
              "      <td>Manhattan</td>\n",
              "      <td>ALPHABET CITY</td>\n",
              "      <td>07 RENTALS - WALKUP APARTMENTS</td>\n",
              "      <td>2A</td>\n",
              "      <td>392</td>\n",
              "      <td>6</td>\n",
              "      <td>C2</td>\n",
              "      <td>153 AVENUE B</td>\n",
              "      <td>5</td>\n",
              "      <td>0</td>\n",
              "      <td>5</td>\n",
              "      <td>1633</td>\n",
              "      <td>6440</td>\n",
              "      <td>1900</td>\n",
              "      <td>2</td>\n",
              "      <td>C2</td>\n",
              "      <td>6625000</td>\n",
              "      <td>2017-07-19 00:00:00</td>\n",
              "    </tr>\n",
              "    <tr>\n",
              "      <th>1</th>\n",
              "      <td>Manhattan</td>\n",
              "      <td>ALPHABET CITY</td>\n",
              "      <td>07 RENTALS - WALKUP APARTMENTS</td>\n",
              "      <td>2</td>\n",
              "      <td>399</td>\n",
              "      <td>26</td>\n",
              "      <td>C7</td>\n",
              "      <td>234 EAST 4TH   STREET</td>\n",
              "      <td>28</td>\n",
              "      <td>3</td>\n",
              "      <td>31</td>\n",
              "      <td>4616</td>\n",
              "      <td>18690</td>\n",
              "      <td>1900</td>\n",
              "      <td>2</td>\n",
              "      <td>C7</td>\n",
              "      <td>-</td>\n",
              "      <td>2016-12-14 00:00:00</td>\n",
              "    </tr>\n",
              "    <tr>\n",
              "      <th>2</th>\n",
              "      <td>Manhattan</td>\n",
              "      <td>ALPHABET CITY</td>\n",
              "      <td>07 RENTALS - WALKUP APARTMENTS</td>\n",
              "      <td>2</td>\n",
              "      <td>399</td>\n",
              "      <td>39</td>\n",
              "      <td>C7</td>\n",
              "      <td>197 EAST 3RD   STREET</td>\n",
              "      <td>16</td>\n",
              "      <td>1</td>\n",
              "      <td>17</td>\n",
              "      <td>2212</td>\n",
              "      <td>7803</td>\n",
              "      <td>1900</td>\n",
              "      <td>2</td>\n",
              "      <td>C7</td>\n",
              "      <td>-</td>\n",
              "      <td>2016-12-09 00:00:00</td>\n",
              "    </tr>\n",
              "    <tr>\n",
              "      <th>3</th>\n",
              "      <td>Manhattan</td>\n",
              "      <td>ALPHABET CITY</td>\n",
              "      <td>07 RENTALS - WALKUP APARTMENTS</td>\n",
              "      <td>2B</td>\n",
              "      <td>402</td>\n",
              "      <td>21</td>\n",
              "      <td>C4</td>\n",
              "      <td>154 EAST 7TH STREET</td>\n",
              "      <td>10</td>\n",
              "      <td>0</td>\n",
              "      <td>10</td>\n",
              "      <td>2272</td>\n",
              "      <td>6794</td>\n",
              "      <td>1913</td>\n",
              "      <td>2</td>\n",
              "      <td>C4</td>\n",
              "      <td>3936272</td>\n",
              "      <td>2016-09-23 00:00:00</td>\n",
              "    </tr>\n",
              "    <tr>\n",
              "      <th>4</th>\n",
              "      <td>Manhattan</td>\n",
              "      <td>ALPHABET CITY</td>\n",
              "      <td>07 RENTALS - WALKUP APARTMENTS</td>\n",
              "      <td>2A</td>\n",
              "      <td>404</td>\n",
              "      <td>55</td>\n",
              "      <td>C2</td>\n",
              "      <td>301 EAST 10TH   STREET</td>\n",
              "      <td>6</td>\n",
              "      <td>0</td>\n",
              "      <td>6</td>\n",
              "      <td>2369</td>\n",
              "      <td>4615</td>\n",
              "      <td>1900</td>\n",
              "      <td>2</td>\n",
              "      <td>C2</td>\n",
              "      <td>8000000</td>\n",
              "      <td>2016-11-17 00:00:00</td>\n",
              "    </tr>\n",
              "  </tbody>\n",
              "</table>\n",
              "</div>\n",
              "      <button class=\"colab-df-convert\" onclick=\"convertToInteractive('df-da9ce3ab-3e76-46cc-ba78-ac0909056f3f')\"\n",
              "              title=\"Convert this dataframe to an interactive table.\"\n",
              "              style=\"display:none;\">\n",
              "        \n",
              "  <svg xmlns=\"http://www.w3.org/2000/svg\" height=\"24px\"viewBox=\"0 0 24 24\"\n",
              "       width=\"24px\">\n",
              "    <path d=\"M0 0h24v24H0V0z\" fill=\"none\"/>\n",
              "    <path d=\"M18.56 5.44l.94 2.06.94-2.06 2.06-.94-2.06-.94-.94-2.06-.94 2.06-2.06.94zm-11 1L8.5 8.5l.94-2.06 2.06-.94-2.06-.94L8.5 2.5l-.94 2.06-2.06.94zm10 10l.94 2.06.94-2.06 2.06-.94-2.06-.94-.94-2.06-.94 2.06-2.06.94z\"/><path d=\"M17.41 7.96l-1.37-1.37c-.4-.4-.92-.59-1.43-.59-.52 0-1.04.2-1.43.59L10.3 9.45l-7.72 7.72c-.78.78-.78 2.05 0 2.83L4 21.41c.39.39.9.59 1.41.59.51 0 1.02-.2 1.41-.59l7.78-7.78 2.81-2.81c.8-.78.8-2.07 0-2.86zM5.41 20L4 18.59l7.72-7.72 1.47 1.35L5.41 20z\"/>\n",
              "  </svg>\n",
              "      </button>\n",
              "      \n",
              "  <style>\n",
              "    .colab-df-container {\n",
              "      display:flex;\n",
              "      flex-wrap:wrap;\n",
              "      gap: 12px;\n",
              "    }\n",
              "\n",
              "    .colab-df-convert {\n",
              "      background-color: #E8F0FE;\n",
              "      border: none;\n",
              "      border-radius: 50%;\n",
              "      cursor: pointer;\n",
              "      display: none;\n",
              "      fill: #1967D2;\n",
              "      height: 32px;\n",
              "      padding: 0 0 0 0;\n",
              "      width: 32px;\n",
              "    }\n",
              "\n",
              "    .colab-df-convert:hover {\n",
              "      background-color: #E2EBFA;\n",
              "      box-shadow: 0px 1px 2px rgba(60, 64, 67, 0.3), 0px 1px 3px 1px rgba(60, 64, 67, 0.15);\n",
              "      fill: #174EA6;\n",
              "    }\n",
              "\n",
              "    [theme=dark] .colab-df-convert {\n",
              "      background-color: #3B4455;\n",
              "      fill: #D2E3FC;\n",
              "    }\n",
              "\n",
              "    [theme=dark] .colab-df-convert:hover {\n",
              "      background-color: #434B5C;\n",
              "      box-shadow: 0px 1px 3px 1px rgba(0, 0, 0, 0.15);\n",
              "      filter: drop-shadow(0px 1px 2px rgba(0, 0, 0, 0.3));\n",
              "      fill: #FFFFFF;\n",
              "    }\n",
              "  </style>\n",
              "\n",
              "      <script>\n",
              "        const buttonEl =\n",
              "          document.querySelector('#df-da9ce3ab-3e76-46cc-ba78-ac0909056f3f button.colab-df-convert');\n",
              "        buttonEl.style.display =\n",
              "          google.colab.kernel.accessAllowed ? 'block' : 'none';\n",
              "\n",
              "        async function convertToInteractive(key) {\n",
              "          const element = document.querySelector('#df-da9ce3ab-3e76-46cc-ba78-ac0909056f3f');\n",
              "          const dataTable =\n",
              "            await google.colab.kernel.invokeFunction('convertToInteractive',\n",
              "                                                     [key], {});\n",
              "          if (!dataTable) return;\n",
              "\n",
              "          const docLinkHtml = 'Like what you see? Visit the ' +\n",
              "            '<a target=\"_blank\" href=https://colab.research.google.com/notebooks/data_table.ipynb>data table notebook</a>'\n",
              "            + ' to learn more about interactive tables.';\n",
              "          element.innerHTML = '';\n",
              "          dataTable['output_type'] = 'display_data';\n",
              "          await google.colab.output.renderOutput(dataTable, element);\n",
              "          const docLink = document.createElement('div');\n",
              "          docLink.innerHTML = docLinkHtml;\n",
              "          element.appendChild(docLink);\n",
              "        }\n",
              "      </script>\n",
              "    </div>\n",
              "  </div>\n",
              "  "
            ]
          },
          "metadata": {},
          "execution_count": 11
        }
      ],
      "source": [
        "# mengganti data wilayah pada column borough dengan string\n",
        "df_nyc['BOROUGH']=df_nyc.BOROUGH.replace({1:'Manhattan', 2: 'Bronx', 3: 'Brooklyn', 4: 'Queens', 5: 'Staten Islands'})\n",
        "\n",
        "df_nyc.head(5)"
      ]
    },
    {
      "cell_type": "code",
      "execution_count": 12,
      "metadata": {
        "id": "N3iur0fSuBEE"
      },
      "outputs": [],
      "source": [
        "# mengubah tipe untuk beberapa column menjadi category\n",
        "\n",
        "categorical = [\"BOROUGH\",\"NEIGHBORHOOD\",\"BUILDING CLASS CATEGORY\",\"TAX CLASS AT PRESENT\",\n",
        "               \"YEAR BUILT\",\"TAX CLASS AT TIME OF SALE\",\"BUILDING CLASS AT TIME OF SALE\"]\n",
        "\n",
        "for categ in categorical:\n",
        "    df_nyc[categ]=df_nyc[categ].astype(\"category\")"
      ]
    },
    {
      "cell_type": "code",
      "execution_count": 13,
      "metadata": {
        "id": "8DsWJF8EuBEF"
      },
      "outputs": [],
      "source": [
        "# mengubah tipe untuk beberapa column menjadi numeric\n",
        "\n",
        "numeric = [\"RESIDENTIAL UNITS\",\"COMMERCIAL UNITS\",\"TOTAL UNITS\",\"LAND SQUARE FEET\",\n",
        "        \"GROSS SQUARE FEET\",\"SALE PRICE\" ]\n",
        "\n",
        "for numer in numeric:\n",
        "    df_nyc[numer]=pd.to_numeric(df_nyc[numer], errors=\"coerce\")"
      ]
    },
    {
      "cell_type": "code",
      "execution_count": 14,
      "metadata": {
        "id": "ziiPMzaTuBEF"
      },
      "outputs": [],
      "source": [
        "# mengubah sale date menjadi datetime\n",
        "df_nyc['SALE DATE'] = pd.to_datetime(df_nyc['SALE DATE'], errors='coerce')"
      ]
    },
    {
      "cell_type": "code",
      "execution_count": 15,
      "metadata": {
        "colab": {
          "base_uri": "https://localhost:8080/"
        },
        "id": "5Z4iwsf0uBEG",
        "outputId": "d2b9b764-1b91-4db0-a8d0-dceafd8789f5"
      },
      "outputs": [
        {
          "output_type": "stream",
          "name": "stdout",
          "text": [
            "<class 'pandas.core.frame.DataFrame'>\n",
            "RangeIndex: 84548 entries, 0 to 84547\n",
            "Data columns (total 18 columns):\n",
            " #   Column                          Non-Null Count  Dtype         \n",
            "---  ------                          --------------  -----         \n",
            " 0   BOROUGH                         84548 non-null  category      \n",
            " 1   NEIGHBORHOOD                    84548 non-null  category      \n",
            " 2   BUILDING CLASS CATEGORY         84548 non-null  category      \n",
            " 3   TAX CLASS AT PRESENT            84548 non-null  category      \n",
            " 4   BLOCK                           84548 non-null  int64         \n",
            " 5   LOT                             84548 non-null  int64         \n",
            " 6   BUILDING CLASS AT PRESENT       84548 non-null  object        \n",
            " 7   ADDRESS                         84548 non-null  object        \n",
            " 8   RESIDENTIAL UNITS               84548 non-null  int64         \n",
            " 9   COMMERCIAL UNITS                84548 non-null  int64         \n",
            " 10  TOTAL UNITS                     84548 non-null  int64         \n",
            " 11  LAND SQUARE FEET                58296 non-null  float64       \n",
            " 12  GROSS SQUARE FEET               56936 non-null  float64       \n",
            " 13  YEAR BUILT                      84548 non-null  category      \n",
            " 14  TAX CLASS AT TIME OF SALE       84548 non-null  category      \n",
            " 15  BUILDING CLASS AT TIME OF SALE  84548 non-null  category      \n",
            " 16  SALE PRICE                      69987 non-null  float64       \n",
            " 17  SALE DATE                       84548 non-null  datetime64[ns]\n",
            "dtypes: category(7), datetime64[ns](1), float64(3), int64(5), object(2)\n",
            "memory usage: 7.9+ MB\n"
          ]
        }
      ],
      "source": [
        "df_nyc.info()"
      ]
    },
    {
      "cell_type": "code",
      "execution_count": 16,
      "metadata": {
        "colab": {
          "base_uri": "https://localhost:8080/"
        },
        "id": "r4B44uhZuBEG",
        "outputId": "dde09ea5-a2d0-49e0-b5e8-30be27c36c50"
      },
      "outputs": [
        {
          "output_type": "execute_result",
          "data": {
            "text/plain": [
              "BOROUGH                               0\n",
              "NEIGHBORHOOD                          0\n",
              "BUILDING CLASS CATEGORY               0\n",
              "TAX CLASS AT PRESENT                  0\n",
              "BLOCK                                 0\n",
              "LOT                                   0\n",
              "BUILDING CLASS AT PRESENT             0\n",
              "ADDRESS                               0\n",
              "RESIDENTIAL UNITS                     0\n",
              "COMMERCIAL UNITS                      0\n",
              "TOTAL UNITS                           0\n",
              "LAND SQUARE FEET                  26252\n",
              "GROSS SQUARE FEET                 27612\n",
              "YEAR BUILT                            0\n",
              "TAX CLASS AT TIME OF SALE             0\n",
              "BUILDING CLASS AT TIME OF SALE        0\n",
              "SALE PRICE                        14561\n",
              "SALE DATE                             0\n",
              "dtype: int64"
            ]
          },
          "metadata": {},
          "execution_count": 16
        }
      ],
      "source": [
        "# mengecek nilai nol pada setiap column\n",
        "df_nyc.isnull().sum()"
      ]
    },
    {
      "cell_type": "code",
      "execution_count": 17,
      "metadata": {
        "id": "U0e8jCUGuBEH"
      },
      "outputs": [],
      "source": [
        "# mengganti nilai pada column land square feet dan gross square feet dengan mean untuk menghindari pencilan\n",
        "df_nyc['LAND SQUARE FEET']=df_nyc['LAND SQUARE FEET'].fillna(df_nyc['LAND SQUARE FEET'].mean())\n",
        "df_nyc['GROSS SQUARE FEET']=df_nyc['GROSS SQUARE FEET'].fillna(df_nyc['GROSS SQUARE FEET'].mean())"
      ]
    },
    {
      "cell_type": "code",
      "execution_count": 18,
      "metadata": {
        "colab": {
          "base_uri": "https://localhost:8080/"
        },
        "id": "AKZUrP8YuBEI",
        "outputId": "fefc4e40-9905-4ac4-ac5c-d79a942023d5"
      },
      "outputs": [
        {
          "output_type": "execute_result",
          "data": {
            "text/plain": [
              "BOROUGH                               0\n",
              "NEIGHBORHOOD                          0\n",
              "BUILDING CLASS CATEGORY               0\n",
              "TAX CLASS AT PRESENT                  0\n",
              "BLOCK                                 0\n",
              "LOT                                   0\n",
              "BUILDING CLASS AT PRESENT             0\n",
              "ADDRESS                               0\n",
              "RESIDENTIAL UNITS                     0\n",
              "COMMERCIAL UNITS                      0\n",
              "TOTAL UNITS                           0\n",
              "LAND SQUARE FEET                      0\n",
              "GROSS SQUARE FEET                     0\n",
              "YEAR BUILT                            0\n",
              "TAX CLASS AT TIME OF SALE             0\n",
              "BUILDING CLASS AT TIME OF SALE        0\n",
              "SALE PRICE                        14561\n",
              "SALE DATE                             0\n",
              "dtype: int64"
            ]
          },
          "metadata": {},
          "execution_count": 18
        }
      ],
      "source": [
        "# mengecek kembali nilai nol\n",
        "df_nyc.isnull().sum()"
      ]
    },
    {
      "cell_type": "code",
      "execution_count": 19,
      "metadata": {
        "id": "I36phM7-uBEI"
      },
      "outputs": [],
      "source": [
        "# menhapus nilai nol pada data yang masih terdapat nol\n",
        "df_nyc.dropna(inplace=True)"
      ]
    },
    {
      "cell_type": "code",
      "execution_count": 20,
      "metadata": {
        "colab": {
          "base_uri": "https://localhost:8080/"
        },
        "id": "iZy7lMDYuBEJ",
        "outputId": "3d87ef02-b935-45ea-f9dd-2e47760bd863"
      },
      "outputs": [
        {
          "output_type": "execute_result",
          "data": {
            "text/plain": [
              "BOROUGH                           0\n",
              "NEIGHBORHOOD                      0\n",
              "BUILDING CLASS CATEGORY           0\n",
              "TAX CLASS AT PRESENT              0\n",
              "BLOCK                             0\n",
              "LOT                               0\n",
              "BUILDING CLASS AT PRESENT         0\n",
              "ADDRESS                           0\n",
              "RESIDENTIAL UNITS                 0\n",
              "COMMERCIAL UNITS                  0\n",
              "TOTAL UNITS                       0\n",
              "LAND SQUARE FEET                  0\n",
              "GROSS SQUARE FEET                 0\n",
              "YEAR BUILT                        0\n",
              "TAX CLASS AT TIME OF SALE         0\n",
              "BUILDING CLASS AT TIME OF SALE    0\n",
              "SALE PRICE                        0\n",
              "SALE DATE                         0\n",
              "dtype: int64"
            ]
          },
          "metadata": {},
          "execution_count": 20
        }
      ],
      "source": [
        "# mengecek kembali nilai nol\n",
        "df_nyc.isnull().sum()"
      ]
    },
    {
      "cell_type": "code",
      "execution_count": 21,
      "metadata": {
        "colab": {
          "base_uri": "https://localhost:8080/"
        },
        "id": "cFBjP7iouBEJ",
        "outputId": "19ced90e-254d-44ee-a2cc-9bcd6cf2cd0c"
      },
      "outputs": [
        {
          "output_type": "execute_result",
          "data": {
            "text/plain": [
              "(69987, 18)"
            ]
          },
          "metadata": {},
          "execution_count": 21
        }
      ],
      "source": [
        "# melihat shape setelah melakukan cleaning nol\n",
        "df_nyc.shape"
      ]
    },
    {
      "cell_type": "code",
      "execution_count": 22,
      "metadata": {
        "colab": {
          "base_uri": "https://localhost:8080/"
        },
        "id": "TuTX3BDruBEK",
        "outputId": "39a8e51a-58b7-46a5-88c6-01b05bf2f450"
      },
      "outputs": [
        {
          "output_type": "execute_result",
          "data": {
            "text/plain": [
              "382"
            ]
          },
          "metadata": {},
          "execution_count": 22
        }
      ],
      "source": [
        "# mengecek duplikasi data\n",
        "df_nyc.duplicated().sum()"
      ]
    },
    {
      "cell_type": "code",
      "execution_count": 23,
      "metadata": {
        "colab": {
          "base_uri": "https://localhost:8080/"
        },
        "id": "eU90Q9A8uBEK",
        "outputId": "4ee0900c-35b6-407d-be4f-5bb383c001b9"
      },
      "outputs": [
        {
          "output_type": "execute_result",
          "data": {
            "text/plain": [
              "0"
            ]
          },
          "metadata": {},
          "execution_count": 23
        }
      ],
      "source": [
        "# menghapus duplikasi data\n",
        "df_nyc.drop_duplicates(inplace=True)\n",
        "df_nyc.duplicated().sum()"
      ]
    },
    {
      "cell_type": "code",
      "execution_count": 24,
      "metadata": {
        "colab": {
          "base_uri": "https://localhost:8080/"
        },
        "id": "zZ_hb_q3uBEL",
        "outputId": "76469560-b91a-40b6-9427-66e877aa43f7"
      },
      "outputs": [
        {
          "output_type": "execute_result",
          "data": {
            "text/plain": [
              "(69605, 18)"
            ]
          },
          "metadata": {},
          "execution_count": 24
        }
      ],
      "source": [
        "# melihat shape setelah melakukan cleaning nol dan duplikasi data\n",
        "df_nyc.shape"
      ]
    },
    {
      "cell_type": "code",
      "execution_count": 25,
      "metadata": {
        "colab": {
          "base_uri": "https://localhost:8080/",
          "height": 300
        },
        "id": "PG-uLLjFuBEL",
        "outputId": "8a960927-a2b3-4df6-e2c7-f0e922a36dc8"
      },
      "outputs": [
        {
          "output_type": "execute_result",
          "data": {
            "text/plain": [
              "              BLOCK           LOT  RESIDENTIAL UNITS  COMMERCIAL UNITS  \\\n",
              "count  69605.000000  69605.000000       69605.000000      69605.000000   \n",
              "mean    4199.879046    374.576855           1.875124          0.164126   \n",
              "std     3431.946199    656.241105          14.291600          8.997365   \n",
              "min        1.000000      1.000000           0.000000          0.000000   \n",
              "25%     1350.000000     22.000000           0.000000          0.000000   \n",
              "50%     3378.000000     50.000000           1.000000          0.000000   \n",
              "75%     6192.000000    820.000000           2.000000          0.000000   \n",
              "max    16319.000000   9106.000000        1844.000000       2261.000000   \n",
              "\n",
              "        TOTAL UNITS  LAND SQUARE FEET  GROSS SQUARE FEET    SALE PRICE  \n",
              "count  69605.000000      6.960500e+04       6.960500e+04  6.960500e+04  \n",
              "mean       2.059378      3.664094e+03       3.690040e+03  1.280740e+06  \n",
              "std       16.992957      3.315301e+04       2.422891e+04  1.143053e+07  \n",
              "min        0.000000      0.000000e+00       0.000000e+00  0.000000e+00  \n",
              "25%        0.000000      1.900000e+03       1.266000e+03  2.300000e+05  \n",
              "50%        1.000000      2.945000e+03       2.400000e+03  5.330000e+05  \n",
              "75%        2.000000      3.941676e+03       4.045707e+03  9.500000e+05  \n",
              "max     2261.000000      4.252327e+06       3.750565e+06  2.210000e+09  "
            ],
            "text/html": [
              "\n",
              "  <div id=\"df-e0b55b33-9319-4031-985b-5aa8df7fed05\">\n",
              "    <div class=\"colab-df-container\">\n",
              "      <div>\n",
              "<style scoped>\n",
              "    .dataframe tbody tr th:only-of-type {\n",
              "        vertical-align: middle;\n",
              "    }\n",
              "\n",
              "    .dataframe tbody tr th {\n",
              "        vertical-align: top;\n",
              "    }\n",
              "\n",
              "    .dataframe thead th {\n",
              "        text-align: right;\n",
              "    }\n",
              "</style>\n",
              "<table border=\"1\" class=\"dataframe\">\n",
              "  <thead>\n",
              "    <tr style=\"text-align: right;\">\n",
              "      <th></th>\n",
              "      <th>BLOCK</th>\n",
              "      <th>LOT</th>\n",
              "      <th>RESIDENTIAL UNITS</th>\n",
              "      <th>COMMERCIAL UNITS</th>\n",
              "      <th>TOTAL UNITS</th>\n",
              "      <th>LAND SQUARE FEET</th>\n",
              "      <th>GROSS SQUARE FEET</th>\n",
              "      <th>SALE PRICE</th>\n",
              "    </tr>\n",
              "  </thead>\n",
              "  <tbody>\n",
              "    <tr>\n",
              "      <th>count</th>\n",
              "      <td>69605.000000</td>\n",
              "      <td>69605.000000</td>\n",
              "      <td>69605.000000</td>\n",
              "      <td>69605.000000</td>\n",
              "      <td>69605.000000</td>\n",
              "      <td>6.960500e+04</td>\n",
              "      <td>6.960500e+04</td>\n",
              "      <td>6.960500e+04</td>\n",
              "    </tr>\n",
              "    <tr>\n",
              "      <th>mean</th>\n",
              "      <td>4199.879046</td>\n",
              "      <td>374.576855</td>\n",
              "      <td>1.875124</td>\n",
              "      <td>0.164126</td>\n",
              "      <td>2.059378</td>\n",
              "      <td>3.664094e+03</td>\n",
              "      <td>3.690040e+03</td>\n",
              "      <td>1.280740e+06</td>\n",
              "    </tr>\n",
              "    <tr>\n",
              "      <th>std</th>\n",
              "      <td>3431.946199</td>\n",
              "      <td>656.241105</td>\n",
              "      <td>14.291600</td>\n",
              "      <td>8.997365</td>\n",
              "      <td>16.992957</td>\n",
              "      <td>3.315301e+04</td>\n",
              "      <td>2.422891e+04</td>\n",
              "      <td>1.143053e+07</td>\n",
              "    </tr>\n",
              "    <tr>\n",
              "      <th>min</th>\n",
              "      <td>1.000000</td>\n",
              "      <td>1.000000</td>\n",
              "      <td>0.000000</td>\n",
              "      <td>0.000000</td>\n",
              "      <td>0.000000</td>\n",
              "      <td>0.000000e+00</td>\n",
              "      <td>0.000000e+00</td>\n",
              "      <td>0.000000e+00</td>\n",
              "    </tr>\n",
              "    <tr>\n",
              "      <th>25%</th>\n",
              "      <td>1350.000000</td>\n",
              "      <td>22.000000</td>\n",
              "      <td>0.000000</td>\n",
              "      <td>0.000000</td>\n",
              "      <td>0.000000</td>\n",
              "      <td>1.900000e+03</td>\n",
              "      <td>1.266000e+03</td>\n",
              "      <td>2.300000e+05</td>\n",
              "    </tr>\n",
              "    <tr>\n",
              "      <th>50%</th>\n",
              "      <td>3378.000000</td>\n",
              "      <td>50.000000</td>\n",
              "      <td>1.000000</td>\n",
              "      <td>0.000000</td>\n",
              "      <td>1.000000</td>\n",
              "      <td>2.945000e+03</td>\n",
              "      <td>2.400000e+03</td>\n",
              "      <td>5.330000e+05</td>\n",
              "    </tr>\n",
              "    <tr>\n",
              "      <th>75%</th>\n",
              "      <td>6192.000000</td>\n",
              "      <td>820.000000</td>\n",
              "      <td>2.000000</td>\n",
              "      <td>0.000000</td>\n",
              "      <td>2.000000</td>\n",
              "      <td>3.941676e+03</td>\n",
              "      <td>4.045707e+03</td>\n",
              "      <td>9.500000e+05</td>\n",
              "    </tr>\n",
              "    <tr>\n",
              "      <th>max</th>\n",
              "      <td>16319.000000</td>\n",
              "      <td>9106.000000</td>\n",
              "      <td>1844.000000</td>\n",
              "      <td>2261.000000</td>\n",
              "      <td>2261.000000</td>\n",
              "      <td>4.252327e+06</td>\n",
              "      <td>3.750565e+06</td>\n",
              "      <td>2.210000e+09</td>\n",
              "    </tr>\n",
              "  </tbody>\n",
              "</table>\n",
              "</div>\n",
              "      <button class=\"colab-df-convert\" onclick=\"convertToInteractive('df-e0b55b33-9319-4031-985b-5aa8df7fed05')\"\n",
              "              title=\"Convert this dataframe to an interactive table.\"\n",
              "              style=\"display:none;\">\n",
              "        \n",
              "  <svg xmlns=\"http://www.w3.org/2000/svg\" height=\"24px\"viewBox=\"0 0 24 24\"\n",
              "       width=\"24px\">\n",
              "    <path d=\"M0 0h24v24H0V0z\" fill=\"none\"/>\n",
              "    <path d=\"M18.56 5.44l.94 2.06.94-2.06 2.06-.94-2.06-.94-.94-2.06-.94 2.06-2.06.94zm-11 1L8.5 8.5l.94-2.06 2.06-.94-2.06-.94L8.5 2.5l-.94 2.06-2.06.94zm10 10l.94 2.06.94-2.06 2.06-.94-2.06-.94-.94-2.06-.94 2.06-2.06.94z\"/><path d=\"M17.41 7.96l-1.37-1.37c-.4-.4-.92-.59-1.43-.59-.52 0-1.04.2-1.43.59L10.3 9.45l-7.72 7.72c-.78.78-.78 2.05 0 2.83L4 21.41c.39.39.9.59 1.41.59.51 0 1.02-.2 1.41-.59l7.78-7.78 2.81-2.81c.8-.78.8-2.07 0-2.86zM5.41 20L4 18.59l7.72-7.72 1.47 1.35L5.41 20z\"/>\n",
              "  </svg>\n",
              "      </button>\n",
              "      \n",
              "  <style>\n",
              "    .colab-df-container {\n",
              "      display:flex;\n",
              "      flex-wrap:wrap;\n",
              "      gap: 12px;\n",
              "    }\n",
              "\n",
              "    .colab-df-convert {\n",
              "      background-color: #E8F0FE;\n",
              "      border: none;\n",
              "      border-radius: 50%;\n",
              "      cursor: pointer;\n",
              "      display: none;\n",
              "      fill: #1967D2;\n",
              "      height: 32px;\n",
              "      padding: 0 0 0 0;\n",
              "      width: 32px;\n",
              "    }\n",
              "\n",
              "    .colab-df-convert:hover {\n",
              "      background-color: #E2EBFA;\n",
              "      box-shadow: 0px 1px 2px rgba(60, 64, 67, 0.3), 0px 1px 3px 1px rgba(60, 64, 67, 0.15);\n",
              "      fill: #174EA6;\n",
              "    }\n",
              "\n",
              "    [theme=dark] .colab-df-convert {\n",
              "      background-color: #3B4455;\n",
              "      fill: #D2E3FC;\n",
              "    }\n",
              "\n",
              "    [theme=dark] .colab-df-convert:hover {\n",
              "      background-color: #434B5C;\n",
              "      box-shadow: 0px 1px 3px 1px rgba(0, 0, 0, 0.15);\n",
              "      filter: drop-shadow(0px 1px 2px rgba(0, 0, 0, 0.3));\n",
              "      fill: #FFFFFF;\n",
              "    }\n",
              "  </style>\n",
              "\n",
              "      <script>\n",
              "        const buttonEl =\n",
              "          document.querySelector('#df-e0b55b33-9319-4031-985b-5aa8df7fed05 button.colab-df-convert');\n",
              "        buttonEl.style.display =\n",
              "          google.colab.kernel.accessAllowed ? 'block' : 'none';\n",
              "\n",
              "        async function convertToInteractive(key) {\n",
              "          const element = document.querySelector('#df-e0b55b33-9319-4031-985b-5aa8df7fed05');\n",
              "          const dataTable =\n",
              "            await google.colab.kernel.invokeFunction('convertToInteractive',\n",
              "                                                     [key], {});\n",
              "          if (!dataTable) return;\n",
              "\n",
              "          const docLinkHtml = 'Like what you see? Visit the ' +\n",
              "            '<a target=\"_blank\" href=https://colab.research.google.com/notebooks/data_table.ipynb>data table notebook</a>'\n",
              "            + ' to learn more about interactive tables.';\n",
              "          element.innerHTML = '';\n",
              "          dataTable['output_type'] = 'display_data';\n",
              "          await google.colab.output.renderOutput(dataTable, element);\n",
              "          const docLink = document.createElement('div');\n",
              "          docLink.innerHTML = docLinkHtml;\n",
              "          element.appendChild(docLink);\n",
              "        }\n",
              "      </script>\n",
              "    </div>\n",
              "  </div>\n",
              "  "
            ]
          },
          "metadata": {},
          "execution_count": 25
        }
      ],
      "source": [
        "df_nyc.describe()"
      ]
    },
    {
      "cell_type": "code",
      "execution_count": 26,
      "metadata": {
        "colab": {
          "base_uri": "https://localhost:8080/",
          "height": 423
        },
        "id": "NrBcaxoWuBEM",
        "outputId": "619a4813-c213-4869-eb5a-fb19d44dbc98"
      },
      "outputs": [
        {
          "output_type": "execute_result",
          "data": {
            "text/plain": [
              "     TOTAL UNITS  SALE PRICE\n",
              "1              1       30550\n",
              "0              0       17581\n",
              "2              2       13021\n",
              "3              3        4478\n",
              "4              4        1275\n",
              "..           ...         ...\n",
              "114          136           1\n",
              "113          135           1\n",
              "112          132           1\n",
              "111          130           1\n",
              "168         2261           1\n",
              "\n",
              "[169 rows x 2 columns]"
            ],
            "text/html": [
              "\n",
              "  <div id=\"df-7f12059b-77ff-4ad6-983f-21093431787b\">\n",
              "    <div class=\"colab-df-container\">\n",
              "      <div>\n",
              "<style scoped>\n",
              "    .dataframe tbody tr th:only-of-type {\n",
              "        vertical-align: middle;\n",
              "    }\n",
              "\n",
              "    .dataframe tbody tr th {\n",
              "        vertical-align: top;\n",
              "    }\n",
              "\n",
              "    .dataframe thead th {\n",
              "        text-align: right;\n",
              "    }\n",
              "</style>\n",
              "<table border=\"1\" class=\"dataframe\">\n",
              "  <thead>\n",
              "    <tr style=\"text-align: right;\">\n",
              "      <th></th>\n",
              "      <th>TOTAL UNITS</th>\n",
              "      <th>SALE PRICE</th>\n",
              "    </tr>\n",
              "  </thead>\n",
              "  <tbody>\n",
              "    <tr>\n",
              "      <th>1</th>\n",
              "      <td>1</td>\n",
              "      <td>30550</td>\n",
              "    </tr>\n",
              "    <tr>\n",
              "      <th>0</th>\n",
              "      <td>0</td>\n",
              "      <td>17581</td>\n",
              "    </tr>\n",
              "    <tr>\n",
              "      <th>2</th>\n",
              "      <td>2</td>\n",
              "      <td>13021</td>\n",
              "    </tr>\n",
              "    <tr>\n",
              "      <th>3</th>\n",
              "      <td>3</td>\n",
              "      <td>4478</td>\n",
              "    </tr>\n",
              "    <tr>\n",
              "      <th>4</th>\n",
              "      <td>4</td>\n",
              "      <td>1275</td>\n",
              "    </tr>\n",
              "    <tr>\n",
              "      <th>...</th>\n",
              "      <td>...</td>\n",
              "      <td>...</td>\n",
              "    </tr>\n",
              "    <tr>\n",
              "      <th>114</th>\n",
              "      <td>136</td>\n",
              "      <td>1</td>\n",
              "    </tr>\n",
              "    <tr>\n",
              "      <th>113</th>\n",
              "      <td>135</td>\n",
              "      <td>1</td>\n",
              "    </tr>\n",
              "    <tr>\n",
              "      <th>112</th>\n",
              "      <td>132</td>\n",
              "      <td>1</td>\n",
              "    </tr>\n",
              "    <tr>\n",
              "      <th>111</th>\n",
              "      <td>130</td>\n",
              "      <td>1</td>\n",
              "    </tr>\n",
              "    <tr>\n",
              "      <th>168</th>\n",
              "      <td>2261</td>\n",
              "      <td>1</td>\n",
              "    </tr>\n",
              "  </tbody>\n",
              "</table>\n",
              "<p>169 rows × 2 columns</p>\n",
              "</div>\n",
              "      <button class=\"colab-df-convert\" onclick=\"convertToInteractive('df-7f12059b-77ff-4ad6-983f-21093431787b')\"\n",
              "              title=\"Convert this dataframe to an interactive table.\"\n",
              "              style=\"display:none;\">\n",
              "        \n",
              "  <svg xmlns=\"http://www.w3.org/2000/svg\" height=\"24px\"viewBox=\"0 0 24 24\"\n",
              "       width=\"24px\">\n",
              "    <path d=\"M0 0h24v24H0V0z\" fill=\"none\"/>\n",
              "    <path d=\"M18.56 5.44l.94 2.06.94-2.06 2.06-.94-2.06-.94-.94-2.06-.94 2.06-2.06.94zm-11 1L8.5 8.5l.94-2.06 2.06-.94-2.06-.94L8.5 2.5l-.94 2.06-2.06.94zm10 10l.94 2.06.94-2.06 2.06-.94-2.06-.94-.94-2.06-.94 2.06-2.06.94z\"/><path d=\"M17.41 7.96l-1.37-1.37c-.4-.4-.92-.59-1.43-.59-.52 0-1.04.2-1.43.59L10.3 9.45l-7.72 7.72c-.78.78-.78 2.05 0 2.83L4 21.41c.39.39.9.59 1.41.59.51 0 1.02-.2 1.41-.59l7.78-7.78 2.81-2.81c.8-.78.8-2.07 0-2.86zM5.41 20L4 18.59l7.72-7.72 1.47 1.35L5.41 20z\"/>\n",
              "  </svg>\n",
              "      </button>\n",
              "      \n",
              "  <style>\n",
              "    .colab-df-container {\n",
              "      display:flex;\n",
              "      flex-wrap:wrap;\n",
              "      gap: 12px;\n",
              "    }\n",
              "\n",
              "    .colab-df-convert {\n",
              "      background-color: #E8F0FE;\n",
              "      border: none;\n",
              "      border-radius: 50%;\n",
              "      cursor: pointer;\n",
              "      display: none;\n",
              "      fill: #1967D2;\n",
              "      height: 32px;\n",
              "      padding: 0 0 0 0;\n",
              "      width: 32px;\n",
              "    }\n",
              "\n",
              "    .colab-df-convert:hover {\n",
              "      background-color: #E2EBFA;\n",
              "      box-shadow: 0px 1px 2px rgba(60, 64, 67, 0.3), 0px 1px 3px 1px rgba(60, 64, 67, 0.15);\n",
              "      fill: #174EA6;\n",
              "    }\n",
              "\n",
              "    [theme=dark] .colab-df-convert {\n",
              "      background-color: #3B4455;\n",
              "      fill: #D2E3FC;\n",
              "    }\n",
              "\n",
              "    [theme=dark] .colab-df-convert:hover {\n",
              "      background-color: #434B5C;\n",
              "      box-shadow: 0px 1px 3px 1px rgba(0, 0, 0, 0.15);\n",
              "      filter: drop-shadow(0px 1px 2px rgba(0, 0, 0, 0.3));\n",
              "      fill: #FFFFFF;\n",
              "    }\n",
              "  </style>\n",
              "\n",
              "      <script>\n",
              "        const buttonEl =\n",
              "          document.querySelector('#df-7f12059b-77ff-4ad6-983f-21093431787b button.colab-df-convert');\n",
              "        buttonEl.style.display =\n",
              "          google.colab.kernel.accessAllowed ? 'block' : 'none';\n",
              "\n",
              "        async function convertToInteractive(key) {\n",
              "          const element = document.querySelector('#df-7f12059b-77ff-4ad6-983f-21093431787b');\n",
              "          const dataTable =\n",
              "            await google.colab.kernel.invokeFunction('convertToInteractive',\n",
              "                                                     [key], {});\n",
              "          if (!dataTable) return;\n",
              "\n",
              "          const docLinkHtml = 'Like what you see? Visit the ' +\n",
              "            '<a target=\"_blank\" href=https://colab.research.google.com/notebooks/data_table.ipynb>data table notebook</a>'\n",
              "            + ' to learn more about interactive tables.';\n",
              "          element.innerHTML = '';\n",
              "          dataTable['output_type'] = 'display_data';\n",
              "          await google.colab.output.renderOutput(dataTable, element);\n",
              "          const docLink = document.createElement('div');\n",
              "          docLink.innerHTML = docLinkHtml;\n",
              "          element.appendChild(docLink);\n",
              "        }\n",
              "      </script>\n",
              "    </div>\n",
              "  </div>\n",
              "  "
            ]
          },
          "metadata": {},
          "execution_count": 26
        }
      ],
      "source": [
        "# mengelompokkan total unit dengan sale price\n",
        "df_nyc[[\"TOTAL UNITS\", \"SALE PRICE\"]].groupby(['TOTAL UNITS'], as_index=False).count().sort_values(by='SALE PRICE', ascending=False)"
      ]
    },
    {
      "cell_type": "code",
      "execution_count": 27,
      "metadata": {
        "id": "wI0ACDmBuBEM"
      },
      "outputs": [],
      "source": [
        "# membuat subset hanya berisi data properti dengan jumlah unit yang valid (bukan 0 atau 2261)\n",
        "data_sale = df_nyc[(df_nyc['TOTAL UNITS'] > 0) & (df_nyc['TOTAL UNITS'] != 2261)] "
      ]
    },
    {
      "cell_type": "code",
      "execution_count": 28,
      "metadata": {
        "colab": {
          "base_uri": "https://localhost:8080/",
          "height": 564
        },
        "id": "OuobCjvhuBEN",
        "outputId": "4597c3fc-8f8b-46e7-fc5d-48e9e4554d79"
      },
      "outputs": [
        {
          "output_type": "display_data",
          "data": {
            "text/plain": [
              "<Figure size 1500x600 with 1 Axes>"
            ],
            "image/png": "[encoded data removed]"
          },
          "metadata": {}
        }
      ],
      "source": [
        "plt.figure(figsize=(15,6))\n",
        "\n",
        "\n",
        "sns.boxplot(x='SALE PRICE', data=data_sale)\n",
        "plt.ticklabel_format(style='plain', axis='x')\n",
        "plt.title('Boxplot of SALE PRICE in USD')\n",
        "plt.show()"
      ]
    },
    {
      "cell_type": "markdown",
      "metadata": {
        "id": "zsi8GEXguBEN"
      },
      "source": [
        "* Terlihat melalui hasil dari sebaran box plot bahwa data sale price di atas 50000000 terlihat memiliki outlier yang ekstrem. Sehingga diambil rentang harga dati 100000 hingga 50000000"
      ]
    },
    {
      "cell_type": "code",
      "execution_count": 29,
      "metadata": {
        "id": "Zp8eHKHRuBEO"
      },
      "outputs": [],
      "source": [
        "# mengambil data pada sale price pada rentang  harga di bawah 50000000\n",
        "datasale_new = data_sale[(data_sale['SALE PRICE'] > 100000) & (data_sale['SALE PRICE'] < 50000000)]"
      ]
    },
    {
      "cell_type": "markdown",
      "metadata": {
        "id": "4MBPDcLuuBEO"
      },
      "source": [
        "### A. Mean\n",
        "#### Berdasarkan dataset penjualan property di NYC. Kita akan melihat berapakah rata-rata di setiap wilayah yang terdapat pada dataset?\n",
        "----"
      ]
    },
    {
      "cell_type": "code",
      "execution_count": 30,
      "metadata": {
        "colab": {
          "base_uri": "https://localhost:8080/",
          "height": 237
        },
        "id": "_Qzef2EVuBEP",
        "outputId": "d7731648-ac98-4d5a-aeb1-553ffa58ba3a"
      },
      "outputs": [
        {
          "output_type": "execute_result",
          "data": {
            "text/plain": [
              "                  SALE PRICE\n",
              "BOROUGH                     \n",
              "Manhattan       3.646256e+06\n",
              "Brooklyn        1.320326e+06\n",
              "Bronx           8.991872e+05\n",
              "Queens          8.387597e+05\n",
              "Staten Islands  5.283618e+05"
            ],
            "text/html": [
              "\n",
              "  <div id=\"df-e4db1ca7-c307-4f68-889c-4cb3750ba52f\">\n",
              "    <div class=\"colab-df-container\">\n",
              "      <div>\n",
              "<style scoped>\n",
              "    .dataframe tbody tr th:only-of-type {\n",
              "        vertical-align: middle;\n",
              "    }\n",
              "\n",
              "    .dataframe tbody tr th {\n",
              "        vertical-align: top;\n",
              "    }\n",
              "\n",
              "    .dataframe thead th {\n",
              "        text-align: right;\n",
              "    }\n",
              "</style>\n",
              "<table border=\"1\" class=\"dataframe\">\n",
              "  <thead>\n",
              "    <tr style=\"text-align: right;\">\n",
              "      <th></th>\n",
              "      <th>SALE PRICE</th>\n",
              "    </tr>\n",
              "    <tr>\n",
              "      <th>BOROUGH</th>\n",
              "      <th></th>\n",
              "    </tr>\n",
              "  </thead>\n",
              "  <tbody>\n",
              "    <tr>\n",
              "      <th>Manhattan</th>\n",
              "      <td>3.646256e+06</td>\n",
              "    </tr>\n",
              "    <tr>\n",
              "      <th>Brooklyn</th>\n",
              "      <td>1.320326e+06</td>\n",
              "    </tr>\n",
              "    <tr>\n",
              "      <th>Bronx</th>\n",
              "      <td>8.991872e+05</td>\n",
              "    </tr>\n",
              "    <tr>\n",
              "      <th>Queens</th>\n",
              "      <td>8.387597e+05</td>\n",
              "    </tr>\n",
              "    <tr>\n",
              "      <th>Staten Islands</th>\n",
              "      <td>5.283618e+05</td>\n",
              "    </tr>\n",
              "  </tbody>\n",
              "</table>\n",
              "</div>\n",
              "      <button class=\"colab-df-convert\" onclick=\"convertToInteractive('df-e4db1ca7-c307-4f68-889c-4cb3750ba52f')\"\n",
              "              title=\"Convert this dataframe to an interactive table.\"\n",
              "              style=\"display:none;\">\n",
              "        \n",
              "  <svg xmlns=\"http://www.w3.org/2000/svg\" height=\"24px\"viewBox=\"0 0 24 24\"\n",
              "       width=\"24px\">\n",
              "    <path d=\"M0 0h24v24H0V0z\" fill=\"none\"/>\n",
              "    <path d=\"M18.56 5.44l.94 2.06.94-2.06 2.06-.94-2.06-.94-.94-2.06-.94 2.06-2.06.94zm-11 1L8.5 8.5l.94-2.06 2.06-.94-2.06-.94L8.5 2.5l-.94 2.06-2.06.94zm10 10l.94 2.06.94-2.06 2.06-.94-2.06-.94-.94-2.06-.94 2.06-2.06.94z\"/><path d=\"M17.41 7.96l-1.37-1.37c-.4-.4-.92-.59-1.43-.59-.52 0-1.04.2-1.43.59L10.3 9.45l-7.72 7.72c-.78.78-.78 2.05 0 2.83L4 21.41c.39.39.9.59 1.41.59.51 0 1.02-.2 1.41-.59l7.78-7.78 2.81-2.81c.8-.78.8-2.07 0-2.86zM5.41 20L4 18.59l7.72-7.72 1.47 1.35L5.41 20z\"/>\n",
              "  </svg>\n",
              "      </button>\n",
              "      \n",
              "  <style>\n",
              "    .colab-df-container {\n",
              "      display:flex;\n",
              "      flex-wrap:wrap;\n",
              "      gap: 12px;\n",
              "    }\n",
              "\n",
              "    .colab-df-convert {\n",
              "      background-color: #E8F0FE;\n",
              "      border: none;\n",
              "      border-radius: 50%;\n",
              "      cursor: pointer;\n",
              "      display: none;\n",
              "      fill: #1967D2;\n",
              "      height: 32px;\n",
              "      padding: 0 0 0 0;\n",
              "      width: 32px;\n",
              "    }\n",
              "\n",
              "    .colab-df-convert:hover {\n",
              "      background-color: #E2EBFA;\n",
              "      box-shadow: 0px 1px 2px rgba(60, 64, 67, 0.3), 0px 1px 3px 1px rgba(60, 64, 67, 0.15);\n",
              "      fill: #174EA6;\n",
              "    }\n",
              "\n",
              "    [theme=dark] .colab-df-convert {\n",
              "      background-color: #3B4455;\n",
              "      fill: #D2E3FC;\n",
              "    }\n",
              "\n",
              "    [theme=dark] .colab-df-convert:hover {\n",
              "      background-color: #434B5C;\n",
              "      box-shadow: 0px 1px 3px 1px rgba(0, 0, 0, 0.15);\n",
              "      filter: drop-shadow(0px 1px 2px rgba(0, 0, 0, 0.3));\n",
              "      fill: #FFFFFF;\n",
              "    }\n",
              "  </style>\n",
              "\n",
              "      <script>\n",
              "        const buttonEl =\n",
              "          document.querySelector('#df-e4db1ca7-c307-4f68-889c-4cb3750ba52f button.colab-df-convert');\n",
              "        buttonEl.style.display =\n",
              "          google.colab.kernel.accessAllowed ? 'block' : 'none';\n",
              "\n",
              "        async function convertToInteractive(key) {\n",
              "          const element = document.querySelector('#df-e4db1ca7-c307-4f68-889c-4cb3750ba52f');\n",
              "          const dataTable =\n",
              "            await google.colab.kernel.invokeFunction('convertToInteractive',\n",
              "                                                     [key], {});\n",
              "          if (!dataTable) return;\n",
              "\n",
              "          const docLinkHtml = 'Like what you see? Visit the ' +\n",
              "            '<a target=\"_blank\" href=https://colab.research.google.com/notebooks/data_table.ipynb>data table notebook</a>'\n",
              "            + ' to learn more about interactive tables.';\n",
              "          element.innerHTML = '';\n",
              "          dataTable['output_type'] = 'display_data';\n",
              "          await google.colab.output.renderOutput(dataTable, element);\n",
              "          const docLink = document.createElement('div');\n",
              "          docLink.innerHTML = docLinkHtml;\n",
              "          element.appendChild(docLink);\n",
              "        }\n",
              "      </script>\n",
              "    </div>\n",
              "  </div>\n",
              "  "
            ]
          },
          "metadata": {},
          "execution_count": 30
        }
      ],
      "source": [
        "data_mean = datasale_new.pivot_table(index='BOROUGH', values='SALE PRICE', aggfunc=np.mean)\n",
        "data_mean.sort_values('SALE PRICE',ascending=False, inplace=True)\n",
        "\n",
        "data_mean"
      ]
    },
    {
      "cell_type": "markdown",
      "metadata": {
        "id": "zPSN0x9ruBEQ"
      },
      "source": [
        "* Kesimpulan:\n",
        "  Berdasarkan data di atas terlihat bahwa rata-rata dari setiap wilayah di NYC sebesar\n",
        "  - Manhattan : $ 36.462.560\n",
        "  - Brooklyn : $ 13.203.260\n",
        "  - Bronx : $ 8.991.872\n",
        "  - Queens : $ 8.387.597\n",
        "  - Staten Islands : $ 5.283.618"
      ]
    },
    {
      "cell_type": "markdown",
      "metadata": {
        "id": "7O6VtxXmuBEQ"
      },
      "source": [
        "### B. Median\n",
        "#### Berapakah nilai tax class pada saat ini yang memiliki total units tertinggi dari data median?\n",
        "#### Karena median menuju pada penilaian sesuatu dalam data yang menunjukkan tingkat kepuasan tertentu. Maka diambil data dari yang paling tinggi ke rendah.\n",
        "-----"
      ]
    },
    {
      "cell_type": "code",
      "execution_count": 31,
      "metadata": {
        "colab": {
          "base_uri": "https://localhost:8080/",
          "height": 363
        },
        "id": "hPAQQFKguBER",
        "outputId": "a76019f4-7a12-4c1c-b55a-aa3bd2784bf5"
      },
      "outputs": [
        {
          "output_type": "execute_result",
          "data": {
            "text/plain": [
              "                      SALE PRICE\n",
              "TAX CLASS AT PRESENT            \n",
              "2B                     2360000.0\n",
              "4                      1766454.5\n",
              "2A                     1221520.5\n",
              "2                      1110000.0\n",
              "1C                      970639.5\n",
              "2C                      870000.0\n",
              "1B                      650000.0\n",
              "1                       600000.0\n",
              "1A                      390000.0"
            ],
            "text/html": [
              "\n",
              "  <div id=\"df-3ded230f-f17e-4013-babd-41c24fa14333\">\n",
              "    <div class=\"colab-df-container\">\n",
              "      <div>\n",
              "<style scoped>\n",
              "    .dataframe tbody tr th:only-of-type {\n",
              "        vertical-align: middle;\n",
              "    }\n",
              "\n",
              "    .dataframe tbody tr th {\n",
              "        vertical-align: top;\n",
              "    }\n",
              "\n",
              "    .dataframe thead th {\n",
              "        text-align: right;\n",
              "    }\n",
              "</style>\n",
              "<table border=\"1\" class=\"dataframe\">\n",
              "  <thead>\n",
              "    <tr style=\"text-align: right;\">\n",
              "      <th></th>\n",
              "      <th>SALE PRICE</th>\n",
              "    </tr>\n",
              "    <tr>\n",
              "      <th>TAX CLASS AT PRESENT</th>\n",
              "      <th></th>\n",
              "    </tr>\n",
              "  </thead>\n",
              "  <tbody>\n",
              "    <tr>\n",
              "      <th>2B</th>\n",
              "      <td>2360000.0</td>\n",
              "    </tr>\n",
              "    <tr>\n",
              "      <th>4</th>\n",
              "      <td>1766454.5</td>\n",
              "    </tr>\n",
              "    <tr>\n",
              "      <th>2A</th>\n",
              "      <td>1221520.5</td>\n",
              "    </tr>\n",
              "    <tr>\n",
              "      <th>2</th>\n",
              "      <td>1110000.0</td>\n",
              "    </tr>\n",
              "    <tr>\n",
              "      <th>1C</th>\n",
              "      <td>970639.5</td>\n",
              "    </tr>\n",
              "    <tr>\n",
              "      <th>2C</th>\n",
              "      <td>870000.0</td>\n",
              "    </tr>\n",
              "    <tr>\n",
              "      <th>1B</th>\n",
              "      <td>650000.0</td>\n",
              "    </tr>\n",
              "    <tr>\n",
              "      <th>1</th>\n",
              "      <td>600000.0</td>\n",
              "    </tr>\n",
              "    <tr>\n",
              "      <th>1A</th>\n",
              "      <td>390000.0</td>\n",
              "    </tr>\n",
              "  </tbody>\n",
              "</table>\n",
              "</div>\n",
              "      <button class=\"colab-df-convert\" onclick=\"convertToInteractive('df-3ded230f-f17e-4013-babd-41c24fa14333')\"\n",
              "              title=\"Convert this dataframe to an interactive table.\"\n",
              "              style=\"display:none;\">\n",
              "        \n",
              "  <svg xmlns=\"http://www.w3.org/2000/svg\" height=\"24px\"viewBox=\"0 0 24 24\"\n",
              "       width=\"24px\">\n",
              "    <path d=\"M0 0h24v24H0V0z\" fill=\"none\"/>\n",
              "    <path d=\"M18.56 5.44l.94 2.06.94-2.06 2.06-.94-2.06-.94-.94-2.06-.94 2.06-2.06.94zm-11 1L8.5 8.5l.94-2.06 2.06-.94-2.06-.94L8.5 2.5l-.94 2.06-2.06.94zm10 10l.94 2.06.94-2.06 2.06-.94-2.06-.94-.94-2.06-.94 2.06-2.06.94z\"/><path d=\"M17.41 7.96l-1.37-1.37c-.4-.4-.92-.59-1.43-.59-.52 0-1.04.2-1.43.59L10.3 9.45l-7.72 7.72c-.78.78-.78 2.05 0 2.83L4 21.41c.39.39.9.59 1.41.59.51 0 1.02-.2 1.41-.59l7.78-7.78 2.81-2.81c.8-.78.8-2.07 0-2.86zM5.41 20L4 18.59l7.72-7.72 1.47 1.35L5.41 20z\"/>\n",
              "  </svg>\n",
              "      </button>\n",
              "      \n",
              "  <style>\n",
              "    .colab-df-container {\n",
              "      display:flex;\n",
              "      flex-wrap:wrap;\n",
              "      gap: 12px;\n",
              "    }\n",
              "\n",
              "    .colab-df-convert {\n",
              "      background-color: #E8F0FE;\n",
              "      border: none;\n",
              "      border-radius: 50%;\n",
              "      cursor: pointer;\n",
              "      display: none;\n",
              "      fill: #1967D2;\n",
              "      height: 32px;\n",
              "      padding: 0 0 0 0;\n",
              "      width: 32px;\n",
              "    }\n",
              "\n",
              "    .colab-df-convert:hover {\n",
              "      background-color: #E2EBFA;\n",
              "      box-shadow: 0px 1px 2px rgba(60, 64, 67, 0.3), 0px 1px 3px 1px rgba(60, 64, 67, 0.15);\n",
              "      fill: #174EA6;\n",
              "    }\n",
              "\n",
              "    [theme=dark] .colab-df-convert {\n",
              "      background-color: #3B4455;\n",
              "      fill: #D2E3FC;\n",
              "    }\n",
              "\n",
              "    [theme=dark] .colab-df-convert:hover {\n",
              "      background-color: #434B5C;\n",
              "      box-shadow: 0px 1px 3px 1px rgba(0, 0, 0, 0.15);\n",
              "      filter: drop-shadow(0px 1px 2px rgba(0, 0, 0, 0.3));\n",
              "      fill: #FFFFFF;\n",
              "    }\n",
              "  </style>\n",
              "\n",
              "      <script>\n",
              "        const buttonEl =\n",
              "          document.querySelector('#df-3ded230f-f17e-4013-babd-41c24fa14333 button.colab-df-convert');\n",
              "        buttonEl.style.display =\n",
              "          google.colab.kernel.accessAllowed ? 'block' : 'none';\n",
              "\n",
              "        async function convertToInteractive(key) {\n",
              "          const element = document.querySelector('#df-3ded230f-f17e-4013-babd-41c24fa14333');\n",
              "          const dataTable =\n",
              "            await google.colab.kernel.invokeFunction('convertToInteractive',\n",
              "                                                     [key], {});\n",
              "          if (!dataTable) return;\n",
              "\n",
              "          const docLinkHtml = 'Like what you see? Visit the ' +\n",
              "            '<a target=\"_blank\" href=https://colab.research.google.com/notebooks/data_table.ipynb>data table notebook</a>'\n",
              "            + ' to learn more about interactive tables.';\n",
              "          element.innerHTML = '';\n",
              "          dataTable['output_type'] = 'display_data';\n",
              "          await google.colab.output.renderOutput(dataTable, element);\n",
              "          const docLink = document.createElement('div');\n",
              "          docLink.innerHTML = docLinkHtml;\n",
              "          element.appendChild(docLink);\n",
              "        }\n",
              "      </script>\n",
              "    </div>\n",
              "  </div>\n",
              "  "
            ]
          },
          "metadata": {},
          "execution_count": 31
        }
      ],
      "source": [
        "data_median = datasale_new.pivot_table(index='TAX CLASS AT PRESENT', values='SALE PRICE', aggfunc=np.median)\n",
        "data_median.sort_values('SALE PRICE',ascending=False, inplace=True)\n",
        "data_median"
      ]
    },
    {
      "cell_type": "code",
      "execution_count": 32,
      "metadata": {
        "colab": {
          "base_uri": "https://localhost:8080/",
          "height": 1000
        },
        "id": "naSlRFqWuBER",
        "outputId": "eeead4b2-3de8-41da-ceff-65ac2d70a7d7"
      },
      "outputs": [
        {
          "output_type": "display_data",
          "data": {
            "text/plain": [
              "<Figure size 800x1200 with 1 Axes>"
            ],
            "image/png": "[encoded data removed]"
          },
          "metadata": {}
        }
      ],
      "source": [
        "# membuat horizontal bar\n",
        "data_median.plot(kind='bar', figsize=(8,12),legend = True, color='blue', edgecolor='black', rot=0)\n",
        "\n",
        "plt.xlabel(\"Tax Class At Present\", fontsize = 15)\n",
        "plt.ylabel(\"Sale Price\", fontsize = 15)\n",
        "plt.xticks(fontsize=10)\n",
        "plt.yticks(fontsize=10)\n",
        "plt.legend(labels=data_median.index, loc='upper right')\n",
        "plt.grid(linewidth=0.3, color=\"grey\")\n",
        "\n",
        "# membuat dan mengatur ukuran judul\n",
        "plt.title(\"Median of Sale Price On Tax Class At Present\", fontsize = 15)\n",
        "# menampilkan\n",
        "plt.show()"
      ]
    },
    {
      "cell_type": "markdown",
      "metadata": {
        "id": "EFXoRN8auBES"
      },
      "source": [
        "* Kesimpulan:\n",
        "  \n",
        "  Berdasarkan data dia tas terlihat bahwa data emdian menunjukkan pada tax class at preset dari banyaknya total unit ditunjukkan oleh kode 2B sebanyak 8 unit dan disusul oleh 2A sebanyak 4 unit. Hal ini menunjukkan bahwa total unit adalah data dari residential unit dan commercial unit yang masih banyak diminati."
      ]
    },
    {
      "cell_type": "markdown",
      "metadata": {
        "id": "ggZRw-tcuBES"
      },
      "source": [
        "### C. Modus\n",
        "#### Pada data modus digunakan untuk melihat data mana yang paling sering muncul. Oleh karena itu, alamat dan kategori gedung mana yang paling sering muncul?\n",
        "-----"
      ]
    },
    {
      "cell_type": "code",
      "execution_count": 33,
      "metadata": {
        "colab": {
          "base_uri": "https://localhost:8080/",
          "height": 237
        },
        "id": "ErKDgLkRuBET",
        "outputId": "c1531a01-8974-44dc-a6cc-2d293a9c7805"
      },
      "outputs": [
        {
          "output_type": "execute_result",
          "data": {
            "text/plain": [
              "                            ADDRESS  \\\n",
              "BOROUGH                               \n",
              "Manhattan            50 WEST STREET   \n",
              "Bronx           2287 JOHNSON AVENUE   \n",
              "Brooklyn            429 KENT AVENUE   \n",
              "Queens           131-05 40TH   ROAD   \n",
              "Staten Islands   145 LINCOLN AVENUE   \n",
              "\n",
              "                                    BUILDING CLASS CATEGORY  \n",
              "BOROUGH                                                      \n",
              "Manhattan       13 CONDOS - ELEVATOR APARTMENTS              \n",
              "Bronx           02 TWO FAMILY DWELLINGS                      \n",
              "Brooklyn        02 TWO FAMILY DWELLINGS                      \n",
              "Queens          01 ONE FAMILY DWELLINGS                      \n",
              "Staten Islands  01 ONE FAMILY DWELLINGS                      "
            ],
            "text/html": [
              "\n",
              "  <div id=\"df-725a5f6e-7c2c-4e23-b5c2-e1e5c5cfb34a\">\n",
              "    <div class=\"colab-df-container\">\n",
              "      <div>\n",
              "<style scoped>\n",
              "    .dataframe tbody tr th:only-of-type {\n",
              "        vertical-align: middle;\n",
              "    }\n",
              "\n",
              "    .dataframe tbody tr th {\n",
              "        vertical-align: top;\n",
              "    }\n",
              "\n",
              "    .dataframe thead th {\n",
              "        text-align: right;\n",
              "    }\n",
              "</style>\n",
              "<table border=\"1\" class=\"dataframe\">\n",
              "  <thead>\n",
              "    <tr style=\"text-align: right;\">\n",
              "      <th></th>\n",
              "      <th>ADDRESS</th>\n",
              "      <th>BUILDING CLASS CATEGORY</th>\n",
              "    </tr>\n",
              "    <tr>\n",
              "      <th>BOROUGH</th>\n",
              "      <th></th>\n",
              "      <th></th>\n",
              "    </tr>\n",
              "  </thead>\n",
              "  <tbody>\n",
              "    <tr>\n",
              "      <th>Manhattan</th>\n",
              "      <td>50 WEST STREET</td>\n",
              "      <td>13 CONDOS - ELEVATOR APARTMENTS</td>\n",
              "    </tr>\n",
              "    <tr>\n",
              "      <th>Bronx</th>\n",
              "      <td>2287 JOHNSON AVENUE</td>\n",
              "      <td>02 TWO FAMILY DWELLINGS</td>\n",
              "    </tr>\n",
              "    <tr>\n",
              "      <th>Brooklyn</th>\n",
              "      <td>429 KENT AVENUE</td>\n",
              "      <td>02 TWO FAMILY DWELLINGS</td>\n",
              "    </tr>\n",
              "    <tr>\n",
              "      <th>Queens</th>\n",
              "      <td>131-05 40TH   ROAD</td>\n",
              "      <td>01 ONE FAMILY DWELLINGS</td>\n",
              "    </tr>\n",
              "    <tr>\n",
              "      <th>Staten Islands</th>\n",
              "      <td>145 LINCOLN AVENUE</td>\n",
              "      <td>01 ONE FAMILY DWELLINGS</td>\n",
              "    </tr>\n",
              "  </tbody>\n",
              "</table>\n",
              "</div>\n",
              "      <button class=\"colab-df-convert\" onclick=\"convertToInteractive('df-725a5f6e-7c2c-4e23-b5c2-e1e5c5cfb34a')\"\n",
              "              title=\"Convert this dataframe to an interactive table.\"\n",
              "              style=\"display:none;\">\n",
              "        \n",
              "  <svg xmlns=\"http://www.w3.org/2000/svg\" height=\"24px\"viewBox=\"0 0 24 24\"\n",
              "       width=\"24px\">\n",
              "    <path d=\"M0 0h24v24H0V0z\" fill=\"none\"/>\n",
              "    <path d=\"M18.56 5.44l.94 2.06.94-2.06 2.06-.94-2.06-.94-.94-2.06-.94 2.06-2.06.94zm-11 1L8.5 8.5l.94-2.06 2.06-.94-2.06-.94L8.5 2.5l-.94 2.06-2.06.94zm10 10l.94 2.06.94-2.06 2.06-.94-2.06-.94-.94-2.06-.94 2.06-2.06.94z\"/><path d=\"M17.41 7.96l-1.37-1.37c-.4-.4-.92-.59-1.43-.59-.52 0-1.04.2-1.43.59L10.3 9.45l-7.72 7.72c-.78.78-.78 2.05 0 2.83L4 21.41c.39.39.9.59 1.41.59.51 0 1.02-.2 1.41-.59l7.78-7.78 2.81-2.81c.8-.78.8-2.07 0-2.86zM5.41 20L4 18.59l7.72-7.72 1.47 1.35L5.41 20z\"/>\n",
              "  </svg>\n",
              "      </button>\n",
              "      \n",
              "  <style>\n",
              "    .colab-df-container {\n",
              "      display:flex;\n",
              "      flex-wrap:wrap;\n",
              "      gap: 12px;\n",
              "    }\n",
              "\n",
              "    .colab-df-convert {\n",
              "      background-color: #E8F0FE;\n",
              "      border: none;\n",
              "      border-radius: 50%;\n",
              "      cursor: pointer;\n",
              "      display: none;\n",
              "      fill: #1967D2;\n",
              "      height: 32px;\n",
              "      padding: 0 0 0 0;\n",
              "      width: 32px;\n",
              "    }\n",
              "\n",
              "    .colab-df-convert:hover {\n",
              "      background-color: #E2EBFA;\n",
              "      box-shadow: 0px 1px 2px rgba(60, 64, 67, 0.3), 0px 1px 3px 1px rgba(60, 64, 67, 0.15);\n",
              "      fill: #174EA6;\n",
              "    }\n",
              "\n",
              "    [theme=dark] .colab-df-convert {\n",
              "      background-color: #3B4455;\n",
              "      fill: #D2E3FC;\n",
              "    }\n",
              "\n",
              "    [theme=dark] .colab-df-convert:hover {\n",
              "      background-color: #434B5C;\n",
              "      box-shadow: 0px 1px 3px 1px rgba(0, 0, 0, 0.15);\n",
              "      filter: drop-shadow(0px 1px 2px rgba(0, 0, 0, 0.3));\n",
              "      fill: #FFFFFF;\n",
              "    }\n",
              "  </style>\n",
              "\n",
              "      <script>\n",
              "        const buttonEl =\n",
              "          document.querySelector('#df-725a5f6e-7c2c-4e23-b5c2-e1e5c5cfb34a button.colab-df-convert');\n",
              "        buttonEl.style.display =\n",
              "          google.colab.kernel.accessAllowed ? 'block' : 'none';\n",
              "\n",
              "        async function convertToInteractive(key) {\n",
              "          const element = document.querySelector('#df-725a5f6e-7c2c-4e23-b5c2-e1e5c5cfb34a');\n",
              "          const dataTable =\n",
              "            await google.colab.kernel.invokeFunction('convertToInteractive',\n",
              "                                                     [key], {});\n",
              "          if (!dataTable) return;\n",
              "\n",
              "          const docLinkHtml = 'Like what you see? Visit the ' +\n",
              "            '<a target=\"_blank\" href=https://colab.research.google.com/notebooks/data_table.ipynb>data table notebook</a>'\n",
              "            + ' to learn more about interactive tables.';\n",
              "          element.innerHTML = '';\n",
              "          dataTable['output_type'] = 'display_data';\n",
              "          await google.colab.output.renderOutput(dataTable, element);\n",
              "          const docLink = document.createElement('div');\n",
              "          docLink.innerHTML = docLinkHtml;\n",
              "          element.appendChild(docLink);\n",
              "        }\n",
              "      </script>\n",
              "    </div>\n",
              "  </div>\n",
              "  "
            ]
          },
          "metadata": {},
          "execution_count": 33
        }
      ],
      "source": [
        "data_mode = datasale_new.pivot_table(index='BOROUGH', values=['BUILDING CLASS CATEGORY','ADDRESS'], aggfunc=statistics.mode)\n",
        "data_mode.sort_values('BUILDING CLASS CATEGORY',ascending=False, inplace=True)\n",
        "data_mode.head()"
      ]
    },
    {
      "cell_type": "markdown",
      "metadata": {
        "id": "O7el2Nq0uBET"
      },
      "source": [
        "* Kesimpulan:\n",
        "  Pada data di atas terlihat bahwa alamat dan bulding class category pada masing-masing adalah:\n",
        "  - Bronx pada 2287 JOHNSON AVENUE kategori gedung 02 TWO FAMILY DWELLINGS\n",
        "  - Brooklyn pada 429 KENT AVENUE kategori gedung 02 TWO FAMILY DWELLINGS\n",
        "  - Manhattan pada 50 WEST STREET kategori gedung 13 CONDOS - ELEVATOR APARTMENTS\n",
        "  - Queens pada 131-05 40TH ROAD kategori gedung 01 ONE FAMILY DWELLINGS\n",
        "  - Staten Islands pada 145 LINCOLN AVENUE kategori gedung 01 ONE FAMILY DWELLINGS"
      ]
    },
    {
      "cell_type": "markdown",
      "metadata": {
        "id": "fubYucSJuBEU"
      },
      "source": [
        "### D. Range\n",
        "#### Berapa besar range dari land square feet dari wilayah Manhattan pada bangunan yang dibangun lebih darii tahun 2000?\n",
        "---"
      ]
    },
    {
      "cell_type": "code",
      "execution_count": null,
      "metadata": {
        "id": "7EC5eBmnuBEU"
      },
      "outputs": [],
      "source": [
        "# membutuhkan column baru untuk membuat sale of year dan sale of month dengan menduplikasi dataset\n",
        "datasale_new['SALE OF MONTH'] = pd.DatetimeIndex(datasale_new['SALE DATE']).month\n",
        "datasale_new['SALE OF YEAR'] = pd.DatetimeIndex(datasale_new['SALE DATE']).year"
      ]
    },
    {
      "cell_type": "code",
      "execution_count": null,
      "metadata": {
        "id": "sRKHyMyHuBEV"
      },
      "outputs": [],
      "source": [
        "datasale_new['YEAR BUILT'] = datasale_new['YEAR BUILT'].astype('int64')\n",
        "datasale_new['SALE OF MONTH'] = datasale_new['SALE OF MONTH'].astype('int64')\n",
        "datasale_new['SALE OF YEAR'] = datasale_new['SALE OF YEAR'].astype('int64')"
      ]
    },
    {
      "cell_type": "code",
      "execution_count": 36,
      "metadata": {
        "id": "-YrccxaguBEX"
      },
      "outputs": [],
      "source": [
        "data_range1 = datasale_new[(datasale_new['BOROUGH'] == 'Manhattan') & (datasale_new['YEAR BUILT'] > 2000)]['LAND SQUARE FEET']\n",
        "data_range2 = datasale_new[(datasale_new['BOROUGH'] == 'Bronx') & (datasale_new['YEAR BUILT'] > 2000)]['LAND SQUARE FEET']\n",
        "data_range3 = datasale_new[(datasale_new['BOROUGH'] == 'Brooklyn') & (datasale_new['YEAR BUILT'] > 2000)]['LAND SQUARE FEET']\n",
        "data_range4 = datasale_new[(datasale_new['BOROUGH'] == 'Queens') & (datasale_new['YEAR BUILT'] > 2000)]['LAND SQUARE FEET']\n",
        "data_range5 = datasale_new[(datasale_new['BOROUGH'] == 'Staten Islands') & (datasale_new['YEAR BUILT'] > 2000)]['LAND SQUARE FEET']"
      ]
    },
    {
      "cell_type": "code",
      "execution_count": 37,
      "metadata": {
        "colab": {
          "base_uri": "https://localhost:8080/"
        },
        "id": "ICSs9n2PuBEY",
        "outputId": "a14b2efe-ccc1-4ce7-a26f-5d0bb4a6d562"
      },
      "outputs": [
        {
          "output_type": "stream",
          "name": "stdout",
          "text": [
            "Range dari Land Square Feet wilayah Manhattan pada bangunan yang dibangung lebih dari tahun 2000 adalah :  21771.0\n",
            "Range dari Land Square Feet wilayah Bronx pada bangunan yang dibangung lebih dari tahun 2000 adalah :  22956.0\n",
            "Range dari Land Square Feet wilayah Brooklyn pada bangunan yang dibangung lebih dari tahun 2000 adalah :  499600.0\n",
            "Range dari Land Square Feet wilayah Queens pada bangunan yang dibangung lebih dari tahun 2000 adalah :  29168.0\n",
            "Range dari Land Square Feet wilayah Staten Islands pada bangunan yang dibangung lebih dari tahun 2000 adalah :  207680.0\n"
          ]
        }
      ],
      "source": [
        "df_rangenew1 = np.ptp(data_range1)\n",
        "df_rangenew2 = np.ptp(data_range2)\n",
        "df_rangenew3 = np.ptp(data_range3)\n",
        "df_rangenew4 = np.ptp(data_range4)\n",
        "df_rangenew5 = np.ptp(data_range5)\n",
        "print('Range dari Land Square Feet wilayah Manhattan pada bangunan yang dibangung lebih dari tahun 2000 adalah : ',df_rangenew1)\n",
        "print('Range dari Land Square Feet wilayah Bronx pada bangunan yang dibangung lebih dari tahun 2000 adalah : ',df_rangenew2)\n",
        "print('Range dari Land Square Feet wilayah Brooklyn pada bangunan yang dibangung lebih dari tahun 2000 adalah : ',df_rangenew3)\n",
        "print('Range dari Land Square Feet wilayah Queens pada bangunan yang dibangung lebih dari tahun 2000 adalah : ',df_rangenew4)\n",
        "print('Range dari Land Square Feet wilayah Staten Islands pada bangunan yang dibangung lebih dari tahun 2000 adalah : ',df_rangenew5)\n"
      ]
    },
    {
      "cell_type": "markdown",
      "metadata": {
        "id": "YLOZaVJLuBEZ"
      },
      "source": [
        "* Kesimpulan:\n",
        "  Berdasarkan data di atas menunjukkan bahwa interval land square feet di wilayah Brooklyn pada bangunan property di atas tahun 2000 memiliki selisih terbesar yaitu  499.600 $m^{2}$."
      ]
    },
    {
      "cell_type": "markdown",
      "metadata": {
        "id": "VSGQTNnauBEZ"
      },
      "source": [
        "### E. Varian\n",
        "#### Berapakah variasi dari sale price land square feet, gross square feet, residental units, dan commercial units di wilayah NYC?\n",
        "------------------------------------"
      ]
    },
    {
      "cell_type": "code",
      "execution_count": 38,
      "metadata": {
        "colab": {
          "base_uri": "https://localhost:8080/"
        },
        "id": "hdErWeqPuBEZ",
        "outputId": "fc58886d-58e0-413e-ff2f-6905f519be16"
      },
      "outputs": [
        {
          "output_type": "stream",
          "name": "stdout",
          "text": [
            "Variance of Sale Price :  7946201432064.691\n",
            "Variance of Land Square Feet :  699928266.6524965\n",
            "Variance of Gross Square Feet :  490988178.74775726\n",
            "Variance of Residential Units :  191.62412285579467\n",
            "Variance of Commercial Units :  6.664782443483562\n"
          ]
        }
      ],
      "source": [
        "var1 = (datasale_new['SALE PRICE']).var()\n",
        "var2 = (datasale_new['LAND SQUARE FEET']).var()\n",
        "var3 = (datasale_new['GROSS SQUARE FEET']).var()\n",
        "var4 = (datasale_new['RESIDENTIAL UNITS']).var()\n",
        "var5 = (datasale_new['COMMERCIAL UNITS']).var()\n",
        "print(\"Variance of Sale Price : \",var1)\n",
        "print(\"Variance of Land Square Feet : \",var2)\n",
        "print(\"Variance of Gross Square Feet : \",var3)\n",
        "print(\"Variance of Residential Units : \",var4)\n",
        "print(\"Variance of Commercial Units : \",var5)\n"
      ]
    },
    {
      "cell_type": "markdown",
      "metadata": {
        "id": "5MICE7bYuBEa"
      },
      "source": [
        "* Kesimpulan:\n",
        "  Data di atas menunjukkan bahwa dari variasi dengan memerhatikan variasi dari residental units dan commercial units memiliki variasi yang rendah."
      ]
    },
    {
      "cell_type": "markdown",
      "metadata": {
        "id": "KL1X4SgauBEa"
      },
      "source": [
        "### F. Standar Deviasi\n",
        "#### Berapakah standar deviasi dari sale price land square feet, gross square feet, residental units, dan commercial units di wilayah NYC?\n",
        "-------------------------------------------------------------------"
      ]
    },
    {
      "cell_type": "code",
      "execution_count": 39,
      "metadata": {
        "colab": {
          "base_uri": "https://localhost:8080/"
        },
        "id": "vUK6XOQ-uBEb",
        "outputId": "672ff4ef-c310-467a-c888-3a158f160b73"
      },
      "outputs": [
        {
          "output_type": "stream",
          "name": "stdout",
          "text": [
            "Standard Deviacy of Sale Price :  2818900.748885049\n",
            "Standard Deviacy of Land Square Feet :  26456.15744306978\n",
            "Standard Deviacy of Gross Square Feet :  22158.253061732037\n",
            "Standard Deviacy of Residental Units :  13.84283651770094\n",
            "Standard Deviacy of Commercial Units :  2.58162399343583\n"
          ]
        }
      ],
      "source": [
        "stdev1 = (datasale_new['SALE PRICE']).std()\n",
        "stdev2 = (datasale_new['LAND SQUARE FEET']).std()\n",
        "stdev3 = (datasale_new['GROSS SQUARE FEET']).std()\n",
        "stdev4 = (datasale_new['RESIDENTIAL UNITS']).std()\n",
        "stdev5 = (datasale_new['COMMERCIAL UNITS']).std()\n",
        "print(\"Standard Deviacy of Sale Price : \",stdev1)\n",
        "print(\"Standard Deviacy of Land Square Feet : \",stdev2)\n",
        "print(\"Standard Deviacy of Gross Square Feet : \",stdev3)\n",
        "print(\"Standard Deviacy of Residental Units : \",stdev4)\n",
        "print(\"Standard Deviacy of Commercial Units : \",stdev5)\n"
      ]
    },
    {
      "cell_type": "markdown",
      "metadata": {
        "id": "jbeLE6zDuBEb"
      },
      "source": [
        "* Kesimpulan:\n",
        "  \n",
        "  Pada standar deviasi terlihat bahwa residental dan commercial units memiliki nilai yang rendah, sehingga titik data cenderung mendekati rata-rata kumpulan data. Sedangkan untuk sale price memiliki nilai standardeviasi yang tinggi menunjukkan bahwa titik data tersebar di nilai yang lebih luas."
      ]
    },
    {
      "cell_type": "markdown",
      "metadata": {
        "id": "nhodAhCyuBEb"
      },
      "source": [
        "### G. Probability Distribution\n",
        "----"
      ]
    },
    {
      "cell_type": "code",
      "execution_count": 40,
      "metadata": {
        "id": "S07eHmUOuBEc"
      },
      "outputs": [],
      "source": [
        "# mengambil data pada sale of year tahun 2017 dnegan melihat bangunan yang dibangun lebih dari tahun 2000 dan kurang dari 2017\n",
        "# mengambil sample harga kisaran 1000000 -10000000\n",
        "df_pd = datasale_new[\n",
        "    (datasale_new['SALE OF YEAR'] == 2017) & \n",
        "    (datasale_new['YEAR BUILT'] > 2000) &\n",
        "    (datasale_new['YEAR BUILT'] < 2017) &\n",
        "    (datasale_new['SALE PRICE'] > 1000000) &\n",
        "    (datasale_new['SALE PRICE'] < 10000000)\n",
        "]['SALE PRICE']"
      ]
    },
    {
      "cell_type": "code",
      "execution_count": 41,
      "metadata": {
        "colab": {
          "base_uri": "https://localhost:8080/",
          "height": 465
        },
        "id": "QcyIlW8kuBEc",
        "outputId": "0a9ebd18-90bc-4c97-865f-ccee8340e06b"
      },
      "outputs": [
        {
          "output_type": "display_data",
          "data": {
            "text/plain": [
              "<Figure size 640x480 with 1 Axes>"
            ],
            "image/png": "[encoded data removed]"
          },
          "metadata": {}
        }
      ],
      "source": [
        "# membuat exponential distribution\n",
        "from scipy.stats import expon\n",
        "\n",
        "# menghitung rata-rata dan standar deviasi dari data\n",
        "mu = np.mean(df_pd)\n",
        "sigma = np.std(df_pd)\n",
        "\n",
        "# membuat histogram dari data\n",
        "plt.hist(df_pd, density=True, bins=30)\n",
        "\n",
        "# membuat plot PDF distribusi eksponensial berdasarkan rata-rata data\n",
        "x = np.linspace(1000000, 10000000, 50)\n",
        "plt.plot(x, expon.pdf(x, scale=mu), 'r-', lw=5, alpha=0.6, label='PDF')\n",
        "\n",
        "plt.xlabel('Sale Price')\n",
        "plt.ylabel('Frekuensi')\n",
        "plt.legend(loc='best', frameon=False)\n",
        "plt.show()\n"
      ]
    },
    {
      "cell_type": "markdown",
      "metadata": {
        "id": "rxsRLg9VuBEd"
      },
      "source": [
        "* Kesimpulan:\n",
        "  \n",
        "  Berdasarkan exponential distribution diambil data yang menggambarkan waktu antara peristiwa yang terjadi pada tahun 2017 yang dilihat dari rentang waktu lebih dari year built pada tahun 2000 hingga kurang dari 2017, terlihat bahwa grafik menunjukkan peristiwa terjadi terus menerus dan independen pada tingkat rata-rata yang konstan. Semakin harganya murah, frekuensi akan semakin naik. Kemduian jika harga mahal, frekuensi akan menurun."
      ]
    },
    {
      "cell_type": "markdown",
      "metadata": {
        "id": "gNX2_UEVuBEe"
      },
      "source": [
        "### H. Confidence Intervals\n",
        "#### Berapakah tingkat kepercayaan harga jual property di wilayah Bronx? \n",
        "##### Hal ini berdasarkan modus yang banyak keluar sebelumnya\n",
        "---"
      ]
    },
    {
      "cell_type": "code",
      "execution_count": 42,
      "metadata": {
        "id": "2H8a2n5cuBEe"
      },
      "outputs": [],
      "source": [
        "manhattan = (datasale_new[datasale_new['BOROUGH'] == 'Manhattan']['SALE PRICE'])\n",
        "data1 = np.mean(manhattan)\n",
        "data2 = np.std(manhattan)\n",
        "data3 = np.size(manhattan)"
      ]
    },
    {
      "cell_type": "code",
      "execution_count": 43,
      "metadata": {
        "colab": {
          "base_uri": "https://localhost:8080/"
        },
        "id": "5pywc-lQuBEf",
        "outputId": "b47794e3-04b7-47f8-da33-29ceef22be50"
      },
      "outputs": [
        {
          "output_type": "stream",
          "name": "stdout",
          "text": [
            "Mean dari Sale price wilayah Manhattan:  3646255.5185563997\n",
            "Standar deviasi dari Sale price wilayah Manhattan:  5117983.54216736\n",
            "Size dari Sale price wilayah Manhattan:  6844\n"
          ]
        }
      ],
      "source": [
        "print('Mean dari Sale price wilayah Manhattan: ',data1)\n",
        "print('Standar deviasi dari Sale price wilayah Manhattan: ',data2)\n",
        "print('Size dari Sale price wilayah Manhattan: ',data3)"
      ]
    },
    {
      "cell_type": "code",
      "execution_count": 44,
      "metadata": {
        "colab": {
          "base_uri": "https://localhost:8080/"
        },
        "id": "uhULJF2vuBEf",
        "outputId": "ad70269a-98f6-4be2-af96-448647044ab1"
      },
      "outputs": [
        {
          "output_type": "stream",
          "name": "stdout",
          "text": [
            "95% confidence interval: (3525000.434806316, 3767510.6023064833)\n"
          ]
        }
      ],
      "source": [
        "# menghitung interval kepercayaan\n",
        "n = data3\n",
        "stderr = data2 / np.sqrt(n)\n",
        "z = 1.96\n",
        "data_lower = data1 - z*stderr\n",
        "data_upper = data1 + z*stderr\n",
        "\n",
        "print(\"95% confidence interval:\", (data_lower, data_upper))"
      ]
    },
    {
      "cell_type": "markdown",
      "metadata": {
        "id": "BFFmVvfQuBEg"
      },
      "source": [
        "* Kesimpulan:\n",
        "  \n",
        "  Berdasarkan data di atas terlihat bahwa kepercayaan terhadap harga dari wilayah Brooklyn paling rendah sebesar $3.525.000 dan tertinggi $3.767.510"
      ]
    },
    {
      "cell_type": "markdown",
      "metadata": {
        "id": "W16rbowOuBEh"
      },
      "source": [
        "### I. Hypothesis Testing\n",
        "----"
      ]
    },
    {
      "cell_type": "markdown",
      "metadata": {
        "id": "o0VHsa8LuBEh"
      },
      "source": [
        "#### Akan diuji apakah rata-rata dari wilayah Queens dan Staten Islands memiliki harga yang signifikan dari rata-rata penjualan properti?\n",
        "\n",
        "##### Uji Coba:\n",
        "- H0 = tidak perbedaan signifikan antara rata-rata harga penjualan properti di wilayah Queens dan Staten Islands.\n",
        "- H1 = terdapat perbedaan signifikan antara rata-rata harga penjualan properti di wilayah Queens dan Staten Islands."
      ]
    },
    {
      "cell_type": "code",
      "execution_count": 45,
      "metadata": {
        "id": "Mtw1DsiUuBEi"
      },
      "outputs": [],
      "source": [
        "brooklyn = (datasale_new[datasale_new['BOROUGH'] == 'Brooklyn']['SALE PRICE'])\n",
        "data1 = np.mean(brooklyn)\n",
        "data2 = np.std(brooklyn)\n",
        "data3 = np.size(brooklyn)\n"
      ]
    },
    {
      "cell_type": "code",
      "execution_count": 46,
      "metadata": {
        "colab": {
          "base_uri": "https://localhost:8080/"
        },
        "id": "OpCEyXl4uBEj",
        "outputId": "f126bf84-c49a-44a6-dd3a-274abfcbbbad"
      },
      "outputs": [
        {
          "output_type": "stream",
          "name": "stdout",
          "text": [
            "Mean dari Sale price wilayah Brooklyn:  1320326.1567662272\n",
            "Standar deviasi dari Sale price wilayah Brooklyn:  2155490.1276320983\n",
            "Size dari Sale price wilayah Brooklyn:  11986\n"
          ]
        }
      ],
      "source": [
        "print('Mean dari Sale price wilayah Brooklyn: ',data1)\n",
        "print('Standar deviasi dari Sale price wilayah Brooklyn: ',data2)\n",
        "print('Size dari Sale price wilayah Brooklyn: ',data3)"
      ]
    },
    {
      "cell_type": "code",
      "execution_count": 47,
      "metadata": {
        "id": "oMdKGy2puBEj"
      },
      "outputs": [],
      "source": [
        "statenislands = (datasale_new[datasale_new['BOROUGH'] == 'Staten Islands']['SALE PRICE'])\n",
        "data4 = np.mean(statenislands)\n",
        "data5 = np.std(statenislands)\n",
        "data6 = np.size(statenislands)"
      ]
    },
    {
      "cell_type": "code",
      "execution_count": 48,
      "metadata": {
        "colab": {
          "base_uri": "https://localhost:8080/"
        },
        "id": "cTod0cn7uBEk",
        "outputId": "ced075fc-2dcb-4b4e-cc21-79c1bacb551c"
      },
      "outputs": [
        {
          "output_type": "stream",
          "name": "stdout",
          "text": [
            "Mean dari Sale price wilayah Staten Islands:  528361.8466302368\n",
            "Standar deviasi dari Sale price wilayah Staten Islands:  457980.763227306\n",
            "Size dari Sale price wilayah Staten Islands:  5490\n"
          ]
        }
      ],
      "source": [
        "print('Mean dari Sale price wilayah Staten Islands: ',data4)\n",
        "print('Standar deviasi dari Sale price wilayah Staten Islands: ',data5)\n",
        "print('Size dari Sale price wilayah Staten Islands: ',data6)"
      ]
    },
    {
      "cell_type": "code",
      "execution_count": 49,
      "metadata": {
        "colab": {
          "base_uri": "https://localhost:8080/"
        },
        "id": "QIjFvTCsuBEk",
        "outputId": "e5eb0b12-504d-4204-c66b-b4b13d88c778"
      },
      "outputs": [
        {
          "output_type": "stream",
          "name": "stdout",
          "text": [
            "Hipotesis nol ditolak, terdapat perbedaan signifikan antara rata-rata harga penjualan properti di wilayah Brooklyn dan Staten Islands.\n"
          ]
        }
      ],
      "source": [
        "import numpy as np\n",
        "from scipy.stats import ttest_ind\n",
        "\n",
        "# sample data yang dibutuhkan\n",
        "brooklyn_sales = np.random.normal(loc=data1, scale=data2, size=data3)\n",
        "statenisland_sales = np.random.normal(loc=data4, scale=data5, size=data6)\n",
        "\n",
        "# menghitung t-test dan p-value\n",
        "t_stat, p_value = ttest_ind(brooklyn_sales, statenisland_sales, equal_var=False)\n",
        "\n",
        "# set significance level\n",
        "alpha = 0.05\n",
        "\n",
        "# intrepertasi hasil\n",
        "if p_value < alpha:\n",
        "    print(\"Hipotesis nol ditolak, terdapat perbedaan signifikan antara rata-rata harga penjualan properti di wilayah Brooklyn dan Staten Islands.\")\n",
        "else:\n",
        "    print(\"Gagal menolak hipotesis nol, tidak ada cukup bukti untuk menyimpulkan bahwa ada perbedaan signifikan antara rata-rata harga penjualan properti di wilayah Brooklyn dan Staten Islands.\")\n"
      ]
    },
    {
      "cell_type": "markdown",
      "metadata": {
        "id": "3KohyKwQuBEl"
      },
      "source": [
        "### Overall Aanalysis\n",
        "---\n",
        "\n",
        "#### Berdasarkan data di atas beberapa kesimpulan yang dapat ditarik adalah:\n",
        "- Rata-rata hara dari setiap wilayah di NYC yang memiliki harga jual yang tinggi adalah Manhattan sebesar $ 3.646.256\n",
        "\n",
        "- Median dari tax class at present yaitu jenis property yang banyak di jual adalah kode 2B dengan harga yang paling umum di jual pada kode tersebut sebesar $ 2.360.000.\n",
        "\n",
        "- Modus pada data yang diambil melalaui wilayah, adress, dan building class category menunjukkan bahwa pada wilayah Manhattan paling banyak mumcul pada alamat 50 WEST STREETdengan kategori rumah 13 condos - elevator apartements.\n",
        "\n",
        "- Range terbesar dari tahun bangunan yang dibangun lebih dari tahun 2000, menunjukkan bahwa selisih terbesar land square feet ada di wilayah Brooklyn.\n",
        "- Data varian pada column residential units dan commercial units adalah kategori rendah.\n",
        "\n",
        "- Sebagai data yang rendah dari variasi, residential dan commercial units pada standar deviasi menunjukkan data cenderung mendekati rata-rata kumpulan data.\n",
        "\n",
        "- Pada exponential ditribution terlihat bahwa pada bangunan yang lebih dari tahun 2000 dan kurang dari 2017 menunjukan konsistensi harga yang rendah akan membuat frekuensi naik, dan sebaliknya harga mahal membuat ferekensi menurun.\n",
        "\n",
        "- Terlihat dari confidence interval bahwa pada wilayah Manhattan yang memiliki modus yang paing banyak muncul melalui harga yang dipercayai  paling rendah sebesar $3.525.000  dan  tertinggi $3.767.510.\n",
        "\n",
        "- Pengujian hypothesis testing pada wilayah yang memiliki range land square feet yang luas yaitu Brooklyn dan Staten Island menunjukkan bahwa terdapat perbedaan signifikan antara rata-rata harga penjualan properti di wilayah Brooklyn dan Staten Islands.\n"
      ]
    }
  ],
  "metadata": {
    "kernelspec": {
      "display_name": "Python 3",
      "language": "python",
      "name": "python3"
    },
    "language_info": {
      "codemirror_mode": {
        "name": "ipython",
        "version": 3
      },
      "file_extension": ".py",
      "mimetype": "text/x-python",
      "name": "python",
      "nbconvert_exporter": "python",
      "pygments_lexer": "ipython3",
      "version": "3.10.0"
    },
    "orig_nbformat": 4,
    "colab": {
      "provenance": []
    }
  },
  "nbformat": 4,
  "nbformat_minor": 0
}